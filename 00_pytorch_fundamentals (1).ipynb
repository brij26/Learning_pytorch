{
  "nbformat": 4,
  "nbformat_minor": 0,
  "metadata": {
    "colab": {
      "provenance": []
    },
    "kernelspec": {
      "name": "python3",
      "display_name": "Python 3"
    },
    "language_info": {
      "name": "python"
    }
  },
  "cells": [
    {
      "cell_type": "markdown",
      "source": [
        "# **`Gettting started with PYTORCH`**"
      ],
      "metadata": {
        "id": "cxwPV9N-u9VX"
      }
    },
    {
      "cell_type": "code",
      "source": [
        "import torch\n",
        "import pandas as pd\n",
        "import numpy as np\n",
        "import matplotlib.pyplot as plt\n",
        "print(torch.__version__)"
      ],
      "metadata": {
        "colab": {
          "base_uri": "https://localhost:8080/"
        },
        "id": "rkxDwS__NEwH",
        "outputId": "c265bf76-fd27-4a02-c876-41b77a0f59f5"
      },
      "execution_count": 5,
      "outputs": [
        {
          "output_type": "stream",
          "name": "stdout",
          "text": [
            "2.6.0+cu124\n"
          ]
        }
      ]
    },
    {
      "cell_type": "markdown",
      "source": [
        "## Introduction to a tensor\n",
        "- Creating tensor"
      ],
      "metadata": {
        "id": "Pd6LO1p2NpuV"
      }
    },
    {
      "cell_type": "markdown",
      "source": [
        "1. scaler"
      ],
      "metadata": {
        "id": "bApwGhozfx2M"
      }
    },
    {
      "cell_type": "code",
      "source": [
        "## Scaler\n",
        "scaler = torch.tensor(7)\n",
        "type(scaler)"
      ],
      "metadata": {
        "colab": {
          "base_uri": "https://localhost:8080/"
        },
        "id": "HDsqYfe4eddY",
        "outputId": "b4d944f9-2b8d-4a24-e240-7c63ec75cb75"
      },
      "execution_count": 9,
      "outputs": [
        {
          "output_type": "execute_result",
          "data": {
            "text/plain": [
              "torch.Tensor"
            ]
          },
          "metadata": {},
          "execution_count": 9
        }
      ]
    },
    {
      "cell_type": "code",
      "source": [
        "# ndim shows us the dimension of the tensor\n",
        "scaler.ndim"
      ],
      "metadata": {
        "colab": {
          "base_uri": "https://localhost:8080/"
        },
        "id": "s_xN1mywettZ",
        "outputId": "763229b6-65a8-4099-bbbe-4dd710e50cca"
      },
      "execution_count": 7,
      "outputs": [
        {
          "output_type": "execute_result",
          "data": {
            "text/plain": [
              "0"
            ]
          },
          "metadata": {},
          "execution_count": 7
        }
      ]
    },
    {
      "cell_type": "code",
      "source": [
        "# get tensor back as python int\n",
        "scaler.item()\n",
        "type(scaler.item())"
      ],
      "metadata": {
        "colab": {
          "base_uri": "https://localhost:8080/"
        },
        "id": "UhU0yxygfYfb",
        "outputId": "007f5af7-89ab-47e4-b238-586fbf4a9fcc"
      },
      "execution_count": 11,
      "outputs": [
        {
          "output_type": "execute_result",
          "data": {
            "text/plain": [
              "int"
            ]
          },
          "metadata": {},
          "execution_count": 11
        }
      ]
    },
    {
      "cell_type": "markdown",
      "source": [
        "2. vector"
      ],
      "metadata": {
        "id": "iMapmYGtfi68"
      }
    },
    {
      "cell_type": "code",
      "source": [
        "## vector\n",
        "vector = torch.tensor([7,7])\n",
        "vector"
      ],
      "metadata": {
        "colab": {
          "base_uri": "https://localhost:8080/"
        },
        "id": "t3A7cRUTf2nT",
        "outputId": "78882ba2-b55f-4f5b-f094-b8595782b064"
      },
      "execution_count": 13,
      "outputs": [
        {
          "output_type": "execute_result",
          "data": {
            "text/plain": [
              "tensor([7, 7])"
            ]
          },
          "metadata": {},
          "execution_count": 13
        }
      ]
    },
    {
      "cell_type": "code",
      "source": [
        "vector.ndim"
      ],
      "metadata": {
        "colab": {
          "base_uri": "https://localhost:8080/"
        },
        "id": "Em4V2TZaf4fV",
        "outputId": "da723609-7766-413e-cea5-8baba0e59218"
      },
      "execution_count": 14,
      "outputs": [
        {
          "output_type": "execute_result",
          "data": {
            "text/plain": [
              "1"
            ]
          },
          "metadata": {},
          "execution_count": 14
        }
      ]
    },
    {
      "cell_type": "code",
      "source": [
        "# shape shows us the what is the height, width or depth\n",
        "# if the tensor have depth\n",
        "vector.shape"
      ],
      "metadata": {
        "colab": {
          "base_uri": "https://localhost:8080/"
        },
        "id": "exNXUcNDgBns",
        "outputId": "bd060382-d621-41a7-d456-344592b1198f"
      },
      "execution_count": 15,
      "outputs": [
        {
          "output_type": "execute_result",
          "data": {
            "text/plain": [
              "torch.Size([2])"
            ]
          },
          "metadata": {},
          "execution_count": 15
        }
      ]
    },
    {
      "cell_type": "markdown",
      "source": [
        "3. Matrix"
      ],
      "metadata": {
        "id": "P9tRq7PohhuT"
      }
    },
    {
      "cell_type": "code",
      "source": [
        "## MATRIX\n",
        "\n",
        "MATRIX = torch.tensor([[7,8],\n",
        "                       [9,10]])"
      ],
      "metadata": {
        "id": "X-hhwwJngED8"
      },
      "execution_count": 16,
      "outputs": []
    },
    {
      "cell_type": "code",
      "source": [
        "MATRIX"
      ],
      "metadata": {
        "colab": {
          "base_uri": "https://localhost:8080/"
        },
        "id": "oB29_QgDgSdu",
        "outputId": "64446b3b-1689-4082-c1a2-f2805533baa4"
      },
      "execution_count": 17,
      "outputs": [
        {
          "output_type": "execute_result",
          "data": {
            "text/plain": [
              "tensor([[ 7,  8],\n",
              "        [ 9, 10]])"
            ]
          },
          "metadata": {},
          "execution_count": 17
        }
      ]
    },
    {
      "cell_type": "code",
      "source": [
        "MATRIX.ndim"
      ],
      "metadata": {
        "colab": {
          "base_uri": "https://localhost:8080/"
        },
        "id": "aaaGqXvMgTbN",
        "outputId": "47e16754-9678-4bf7-b0fd-5c93de1e4c9c"
      },
      "execution_count": 18,
      "outputs": [
        {
          "output_type": "execute_result",
          "data": {
            "text/plain": [
              "2"
            ]
          },
          "metadata": {},
          "execution_count": 18
        }
      ]
    },
    {
      "cell_type": "code",
      "source": [
        "MATRIX.shape"
      ],
      "metadata": {
        "colab": {
          "base_uri": "https://localhost:8080/"
        },
        "id": "SHDEJ0IegWSt",
        "outputId": "97b5a387-3dce-44e1-c39f-f295259603bd"
      },
      "execution_count": 19,
      "outputs": [
        {
          "output_type": "execute_result",
          "data": {
            "text/plain": [
              "torch.Size([2, 2])"
            ]
          },
          "metadata": {},
          "execution_count": 19
        }
      ]
    },
    {
      "cell_type": "code",
      "source": [
        "MATRIX[0][0]"
      ],
      "metadata": {
        "colab": {
          "base_uri": "https://localhost:8080/"
        },
        "id": "QDoEfIk-gY0s",
        "outputId": "69d0d963-b2b4-41e3-c727-5743af79590b"
      },
      "execution_count": 21,
      "outputs": [
        {
          "output_type": "execute_result",
          "data": {
            "text/plain": [
              "tensor(7)"
            ]
          },
          "metadata": {},
          "execution_count": 21
        }
      ]
    },
    {
      "cell_type": "markdown",
      "source": [
        "4. Tensor"
      ],
      "metadata": {
        "id": "f54RFGOyhe1T"
      }
    },
    {
      "cell_type": "code",
      "source": [
        "## TENSOR\n",
        "TENSOR = torch.tensor([[[1,2,3],\n",
        "                        [4,5,6]\n",
        "                        ]])\n",
        "\n",
        "TENSOR"
      ],
      "metadata": {
        "colab": {
          "base_uri": "https://localhost:8080/"
        },
        "id": "ozO74pB1gdNG",
        "outputId": "447fcd72-e6a2-4cfd-ad8d-084b4eecad8e"
      },
      "execution_count": 25,
      "outputs": [
        {
          "output_type": "execute_result",
          "data": {
            "text/plain": [
              "tensor([[[1, 2, 3],\n",
              "         [4, 5, 6]]])"
            ]
          },
          "metadata": {},
          "execution_count": 25
        }
      ]
    },
    {
      "cell_type": "code",
      "source": [
        "TENSOR.ndim"
      ],
      "metadata": {
        "colab": {
          "base_uri": "https://localhost:8080/"
        },
        "id": "Djm_PX1Qg1EQ",
        "outputId": "f09df341-09f9-4480-b6da-79e906b0829b"
      },
      "execution_count": 26,
      "outputs": [
        {
          "output_type": "execute_result",
          "data": {
            "text/plain": [
              "3"
            ]
          },
          "metadata": {},
          "execution_count": 26
        }
      ]
    },
    {
      "cell_type": "code",
      "source": [
        "## shape is printing like (depth, height, witdth)\n",
        "TENSOR.shape"
      ],
      "metadata": {
        "colab": {
          "base_uri": "https://localhost:8080/"
        },
        "id": "T0NI5Vfpg356",
        "outputId": "ea504296-b33b-48f3-9045-db5bfa799323"
      },
      "execution_count": 27,
      "outputs": [
        {
          "output_type": "execute_result",
          "data": {
            "text/plain": [
              "torch.Size([1, 2, 3])"
            ]
          },
          "metadata": {},
          "execution_count": 27
        }
      ]
    },
    {
      "cell_type": "markdown",
      "source": [
        "## `**we write the MATRIX and TENSOR in capital because generally in the python we write of define the  matrix or the tensor as upper(A) or any latter or a name for example   A, M, X etc...**`"
      ],
      "metadata": {
        "id": "mhdZJGzGi4XG"
      }
    },
    {
      "cell_type": "markdown",
      "source": [
        "### now how can we create the random tensor\n",
        "\n",
        "Why Random tensor?\n",
        "\n",
        "Random tensors are important because the way many neural networks learn is that they start with tensors full of random numbers and then adjust random numbers to better represent the data.\n",
        "\n",
        "`Start with random numbers -> look at data -> update random numbers -> look at data -> update random numbers`\n",
        "\n",
        "\n"
      ],
      "metadata": {
        "id": "4Z6OaIbHhKbz"
      }
    },
    {
      "cell_type": "code",
      "source": [
        "# Create a random tensor of shape of size(3,4)\n",
        "random_tensor = torch.rand(3,4)\n",
        "random_tensor"
      ],
      "metadata": {
        "colab": {
          "base_uri": "https://localhost:8080/"
        },
        "id": "MWNjoA6yj33v",
        "outputId": "372c1310-25c7-440b-ba16-88d0e3f778e4"
      },
      "execution_count": 29,
      "outputs": [
        {
          "output_type": "execute_result",
          "data": {
            "text/plain": [
              "tensor([[0.0014, 0.6588, 0.6408, 0.3089],\n",
              "        [0.7080, 0.0479, 0.3043, 0.4440],\n",
              "        [0.1272, 0.3964, 0.9005, 0.9999]])"
            ]
          },
          "metadata": {},
          "execution_count": 29
        }
      ]
    },
    {
      "cell_type": "code",
      "source": [
        "random_tensor.ndim"
      ],
      "metadata": {
        "colab": {
          "base_uri": "https://localhost:8080/"
        },
        "id": "Pb2ciCuclGqh",
        "outputId": "ba0cc74f-b79f-4da8-ad25-5778c68d8c06"
      },
      "execution_count": 30,
      "outputs": [
        {
          "output_type": "execute_result",
          "data": {
            "text/plain": [
              "2"
            ]
          },
          "metadata": {},
          "execution_count": 30
        }
      ]
    },
    {
      "cell_type": "code",
      "source": [
        "random_tensor.shape"
      ],
      "metadata": {
        "colab": {
          "base_uri": "https://localhost:8080/"
        },
        "id": "1Ct60k70lNwZ",
        "outputId": "799d72c4-030c-4571-b8d5-8814503160ce"
      },
      "execution_count": 31,
      "outputs": [
        {
          "output_type": "execute_result",
          "data": {
            "text/plain": [
              "torch.Size([3, 4])"
            ]
          },
          "metadata": {},
          "execution_count": 31
        }
      ]
    },
    {
      "cell_type": "code",
      "source": [
        "# Create a random tensor with similar shape to an image tensor\n",
        "random_image_size_tensor = torch.rand(size = (3, 224, 224)) # height, width, colour channels (R, G, B)\n",
        "random_image_size_tensor.shape,random_image_size_tensor.ndim"
      ],
      "metadata": {
        "colab": {
          "base_uri": "https://localhost:8080/"
        },
        "id": "btqFlPQflQVW",
        "outputId": "9bc2fc5e-0445-4066-f297-be792ae342f6"
      },
      "execution_count": 33,
      "outputs": [
        {
          "output_type": "execute_result",
          "data": {
            "text/plain": [
              "(torch.Size([3, 224, 224]), 3)"
            ]
          },
          "metadata": {},
          "execution_count": 33
        }
      ]
    },
    {
      "cell_type": "code",
      "source": [
        "fake_image = torch.rand(size = (1,28,28))\n",
        "fake_image.shape, fake_image.ndim"
      ],
      "metadata": {
        "colab": {
          "base_uri": "https://localhost:8080/"
        },
        "id": "KJLxf8c6mJYz",
        "outputId": "bf1b3ca0-3b36-45d6-f429-a25e1ee919f9"
      },
      "execution_count": 34,
      "outputs": [
        {
          "output_type": "execute_result",
          "data": {
            "text/plain": [
              "(torch.Size([1, 28, 28]), 3)"
            ]
          },
          "metadata": {},
          "execution_count": 34
        }
      ]
    },
    {
      "cell_type": "markdown",
      "source": [
        "### Zerosa and Ones tensor"
      ],
      "metadata": {
        "id": "sQFOsN8Dm1SZ"
      }
    },
    {
      "cell_type": "code",
      "source": [
        "# create a tensor of all zeros\n",
        "zero = torch.zeros(size = (3,4))\n",
        "zero"
      ],
      "metadata": {
        "colab": {
          "base_uri": "https://localhost:8080/"
        },
        "id": "uzusOdMrtSfh",
        "outputId": "967b7ddf-6a3b-43c0-9561-dd0d1484e798"
      },
      "execution_count": 35,
      "outputs": [
        {
          "output_type": "execute_result",
          "data": {
            "text/plain": [
              "tensor([[0., 0., 0., 0.],\n",
              "        [0., 0., 0., 0.],\n",
              "        [0., 0., 0., 0.]])"
            ]
          },
          "metadata": {},
          "execution_count": 35
        }
      ]
    },
    {
      "cell_type": "code",
      "source": [
        "answer = torch.zeros(size = (3,4))*torch.rand(size = (3,4))\n",
        "answer"
      ],
      "metadata": {
        "colab": {
          "base_uri": "https://localhost:8080/"
        },
        "id": "UmIL7nwAtc2j",
        "outputId": "36a4b581-03a0-4884-bb5c-eae079ac3303"
      },
      "execution_count": 36,
      "outputs": [
        {
          "output_type": "execute_result",
          "data": {
            "text/plain": [
              "tensor([[0., 0., 0., 0.],\n",
              "        [0., 0., 0., 0.],\n",
              "        [0., 0., 0., 0.]])"
            ]
          },
          "metadata": {},
          "execution_count": 36
        }
      ]
    },
    {
      "cell_type": "code",
      "source": [
        "## tensor of all ones\n",
        "ones = torch.ones(size = (3,4))\n",
        "ones"
      ],
      "metadata": {
        "colab": {
          "base_uri": "https://localhost:8080/"
        },
        "id": "Hklqp-uxtrdO",
        "outputId": "1123b7fd-08b6-4c1f-c92b-037eaab0250b"
      },
      "execution_count": 41,
      "outputs": [
        {
          "output_type": "execute_result",
          "data": {
            "text/plain": [
              "tensor([[1., 1., 1., 1.],\n",
              "        [1., 1., 1., 1.],\n",
              "        [1., 1., 1., 1.]])"
            ]
          },
          "metadata": {},
          "execution_count": 41
        }
      ]
    },
    {
      "cell_type": "code",
      "source": [
        "## datatype of the tensor\n",
        "ones.dtype"
      ],
      "metadata": {
        "colab": {
          "base_uri": "https://localhost:8080/"
        },
        "id": "ixJxJjtltzZy",
        "outputId": "ce4b2a07-c6cb-464b-efa4-d7a5fbf450b8"
      },
      "execution_count": 38,
      "outputs": [
        {
          "output_type": "execute_result",
          "data": {
            "text/plain": [
              "torch.float32"
            ]
          },
          "metadata": {},
          "execution_count": 38
        }
      ]
    },
    {
      "cell_type": "markdown",
      "source": [
        "## Creating a range of tensors and tensors-like"
      ],
      "metadata": {
        "id": "pUXCNIMat7WM"
      }
    },
    {
      "cell_type": "code",
      "source": [
        "torch.range(0, 10)"
      ],
      "metadata": {
        "colab": {
          "base_uri": "https://localhost:8080/"
        },
        "id": "3EvTdgnCuVl9",
        "outputId": "3a1c7c73-c08f-4cec-de3b-055d47a730bb"
      },
      "execution_count": 42,
      "outputs": [
        {
          "output_type": "stream",
          "name": "stderr",
          "text": [
            "<ipython-input-42-cf0dcdb325c8>:1: UserWarning: torch.range is deprecated and will be removed in a future release because its behavior is inconsistent with Python's range builtin. Instead, use torch.arange, which produces values in [start, end).\n",
            "  torch.range(0, 10)\n"
          ]
        },
        {
          "output_type": "execute_result",
          "data": {
            "text/plain": [
              "tensor([ 0.,  1.,  2.,  3.,  4.,  5.,  6.,  7.,  8.,  9., 10.])"
            ]
          },
          "metadata": {},
          "execution_count": 42
        }
      ]
    },
    {
      "cell_type": "code",
      "source": [
        "## it might get deprecated in the future so instead of range() we will be use arange()\n",
        "torch.arange(0, 10)"
      ],
      "metadata": {
        "colab": {
          "base_uri": "https://localhost:8080/"
        },
        "id": "g5IOF3MBuk6u",
        "outputId": "d9cd2748-e13d-4191-e153-dc1ed2e5148e"
      },
      "execution_count": 45,
      "outputs": [
        {
          "output_type": "execute_result",
          "data": {
            "text/plain": [
              "tensor([0, 1, 2, 3, 4, 5, 6, 7, 8, 9])"
            ]
          },
          "metadata": {},
          "execution_count": 45
        }
      ]
    },
    {
      "cell_type": "code",
      "source": [
        "# here 1 is starting point and 11 is ending point and 2 is the step_size\n",
        "one_to_ten = torch.arange(1, 11, 2)\n",
        "one_to_ten"
      ],
      "metadata": {
        "colab": {
          "base_uri": "https://localhost:8080/"
        },
        "id": "XJr_xfVJu12s",
        "outputId": "6ad3a4ba-95bf-4630-edd3-8163faf582ac"
      },
      "execution_count": 48,
      "outputs": [
        {
          "output_type": "execute_result",
          "data": {
            "text/plain": [
              "tensor([1, 3, 5, 7, 9])"
            ]
          },
          "metadata": {},
          "execution_count": 48
        }
      ]
    },
    {
      "cell_type": "code",
      "source": [
        "## creating tensors like\n",
        "## we don't want to specify the input size and we want to create the tensor\n",
        "## then we can use like function to create a tensors for example\n",
        "\n",
        "ten_zeros = torch.zeros_like(one_to_ten)\n",
        "ten_zeros\n"
      ],
      "metadata": {
        "colab": {
          "base_uri": "https://localhost:8080/"
        },
        "id": "9hmy7ToBvByr",
        "outputId": "3cbfaad0-181c-4bca-9f41-c21ea5a8a37a"
      },
      "execution_count": 49,
      "outputs": [
        {
          "output_type": "execute_result",
          "data": {
            "text/plain": [
              "tensor([0, 0, 0, 0, 0])"
            ]
          },
          "metadata": {},
          "execution_count": 49
        }
      ]
    },
    {
      "cell_type": "code",
      "source": [
        "ten_zeros.shape, one_to_ten.shape"
      ],
      "metadata": {
        "colab": {
          "base_uri": "https://localhost:8080/"
        },
        "id": "8ihXvRf3vwbI",
        "outputId": "2cd2698a-1efb-474f-d77e-3f2a17689384"
      },
      "execution_count": 50,
      "outputs": [
        {
          "output_type": "execute_result",
          "data": {
            "text/plain": [
              "(torch.Size([5]), torch.Size([5]))"
            ]
          },
          "metadata": {},
          "execution_count": 50
        }
      ]
    },
    {
      "cell_type": "code",
      "source": [
        "sample = torch.rand(size = (3,4))\n",
        "sample"
      ],
      "metadata": {
        "colab": {
          "base_uri": "https://localhost:8080/"
        },
        "id": "W0QJwGu8v4gh",
        "outputId": "e3cde45b-bb9d-403c-ce22-efbcd8295860"
      },
      "execution_count": 51,
      "outputs": [
        {
          "output_type": "execute_result",
          "data": {
            "text/plain": [
              "tensor([[0.6401, 0.5797, 0.2972, 0.5900],\n",
              "        [0.4605, 0.0794, 0.2611, 0.5025],\n",
              "        [0.9252, 0.9375, 0.4089, 0.1466]])"
            ]
          },
          "metadata": {},
          "execution_count": 51
        }
      ]
    },
    {
      "cell_type": "code",
      "source": [
        "# we want to create a tesor which is like to above tensor (sample)\n",
        "# but we want all as zeros or ones without specify the size of the tensor\n",
        "# than we can use the {zeros_like, ones_like} function of the torch\n",
        "all_ones = torch.ones_like(sample)\n",
        "all_zeros = torch.zeros_like(sample)"
      ],
      "metadata": {
        "id": "DSJZ4u-GwbgI"
      },
      "execution_count": 52,
      "outputs": []
    },
    {
      "cell_type": "code",
      "source": [
        "all_ones.shape , all_ones.ndim"
      ],
      "metadata": {
        "colab": {
          "base_uri": "https://localhost:8080/"
        },
        "id": "h0eFBpfExGJ9",
        "outputId": "3977fc0b-6400-47cc-b3a6-bd1fc7b68763"
      },
      "execution_count": 53,
      "outputs": [
        {
          "output_type": "execute_result",
          "data": {
            "text/plain": [
              "(torch.Size([3, 4]), 2)"
            ]
          },
          "metadata": {},
          "execution_count": 53
        }
      ]
    },
    {
      "cell_type": "code",
      "source": [
        "all_zeros.shape, all_zeros.ndim"
      ],
      "metadata": {
        "colab": {
          "base_uri": "https://localhost:8080/"
        },
        "id": "9ckRd5sFxJ0-",
        "outputId": "0cf5c9fd-84fe-4fb3-d3d0-be508ef5efe7"
      },
      "execution_count": 54,
      "outputs": [
        {
          "output_type": "execute_result",
          "data": {
            "text/plain": [
              "(torch.Size([3, 4]), 2)"
            ]
          },
          "metadata": {},
          "execution_count": 54
        }
      ]
    },
    {
      "cell_type": "code",
      "source": [
        "sample.shape, sample.ndim"
      ],
      "metadata": {
        "colab": {
          "base_uri": "https://localhost:8080/"
        },
        "id": "e_2soV6TxOjP",
        "outputId": "707b4c4b-8411-4013-fa19-9b95c889c753"
      },
      "execution_count": 55,
      "outputs": [
        {
          "output_type": "execute_result",
          "data": {
            "text/plain": [
              "(torch.Size([3, 4]), 2)"
            ]
          },
          "metadata": {},
          "execution_count": 55
        }
      ]
    },
    {
      "cell_type": "markdown",
      "source": [
        "## tensors with different datatypes"
      ],
      "metadata": {
        "id": "s-fOu62mxRiA"
      }
    },
    {
      "cell_type": "code",
      "source": [
        "## till now we create the tensors of float32 dtypes\n",
        "## for exaple\n",
        "sample.dtype"
      ],
      "metadata": {
        "colab": {
          "base_uri": "https://localhost:8080/"
        },
        "id": "PrVK7yYAxbr2",
        "outputId": "5e1a159a-0de4-4b2a-a263-5b872d1b96ba"
      },
      "execution_count": 56,
      "outputs": [
        {
          "output_type": "execute_result",
          "data": {
            "text/plain": [
              "torch.float32"
            ]
          },
          "metadata": {},
          "execution_count": 56
        }
      ]
    },
    {
      "cell_type": "code",
      "source": [
        "# Float_32_tensor\n",
        "float_32_tensor = torch.tensor([3.0, 4.0, 5.0], dtype = None)\n",
        "## make a tensor of the data type of int64 (we use torch.int64)\n",
        "int_64_tensor = torch.tensor([3.0, 4.0, 5.0], dtype = torch.int64)"
      ],
      "metadata": {
        "id": "VoA-ZQh-xoGx"
      },
      "execution_count": 75,
      "outputs": []
    },
    {
      "cell_type": "code",
      "source": [
        "float_32_tensor.dtype"
      ],
      "metadata": {
        "colab": {
          "base_uri": "https://localhost:8080/"
        },
        "id": "n_P8Bn6hyLrm",
        "outputId": "920768c1-2a5e-4247-be65-738b3a15582b"
      },
      "execution_count": 72,
      "outputs": [
        {
          "output_type": "execute_result",
          "data": {
            "text/plain": [
              "torch.float32"
            ]
          },
          "metadata": {},
          "execution_count": 72
        }
      ]
    },
    {
      "cell_type": "code",
      "source": [
        "int_64_tensor.dtype"
      ],
      "metadata": {
        "colab": {
          "base_uri": "https://localhost:8080/"
        },
        "id": "x7H65LXxyUsp",
        "outputId": "d5e3f35e-c94c-403e-9308-2a17383fd31f"
      },
      "execution_count": 76,
      "outputs": [
        {
          "output_type": "execute_result",
          "data": {
            "text/plain": [
              "torch.int64"
            ]
          },
          "metadata": {},
          "execution_count": 76
        }
      ]
    },
    {
      "cell_type": "code",
      "source": [
        "# we can also create the tensor of the datatype of the int32, int16 etc..\n",
        "# by using torch.int16 or torch.int32\n",
        "int_16_tensor =  torch.tensor([3.0, 4.0, 5.0], dtype = torch.int16)\n",
        "int_32_tensor =  torch.tensor([3.0, 4.0, 9.0], dtype = torch.int32)"
      ],
      "metadata": {
        "id": "_s3-UVVLyX2_"
      },
      "execution_count": 77,
      "outputs": []
    },
    {
      "cell_type": "code",
      "source": [
        "int_16_tensor.dtype , int_32_tensor.dtype"
      ],
      "metadata": {
        "colab": {
          "base_uri": "https://localhost:8080/"
        },
        "id": "OqJqhQ0Ey6FV",
        "outputId": "4544c6f5-89b4-40ed-99b0-73cb942d306c"
      },
      "execution_count": 78,
      "outputs": [
        {
          "output_type": "execute_result",
          "data": {
            "text/plain": [
              "(torch.int16, torch.int32)"
            ]
          },
          "metadata": {},
          "execution_count": 78
        }
      ]
    },
    {
      "cell_type": "code",
      "source": [
        "## we also give two more parameters along with dtype (device, requires_grad)\n",
        "float_32_tensor =  torch.tensor([3.0, 6.0, 9.0],\n",
        "                                dtype = None, # what datatype is the tensor(e.g. float32, int16, int64)\n",
        "                                device = None, # What device is your tensor on\n",
        "                                requires_grad=False) # whether or not to track gradients with this tensors operations\n",
        "float_32_tensor"
      ],
      "metadata": {
        "colab": {
          "base_uri": "https://localhost:8080/"
        },
        "id": "Prhm6GWIzdbp",
        "outputId": "eae2e35c-f532-4fd5-8486-b27148249dd1"
      },
      "execution_count": 82,
      "outputs": [
        {
          "output_type": "execute_result",
          "data": {
            "text/plain": [
              "tensor([3., 6., 9.])"
            ]
          },
          "metadata": {},
          "execution_count": 82
        }
      ]
    },
    {
      "cell_type": "markdown",
      "source": [
        "**Note:**Tensors datatypes is one of the 3 big errors you'll run into with Pytorch & deep learning:\n",
        "\n",
        "1. Tensors not right datatype\n",
        "2. Tensors not right shape\n",
        "3. Tensors not on the right device"
      ],
      "metadata": {
        "id": "vCB-g-xE06oX"
      }
    },
    {
      "cell_type": "code",
      "source": [
        "# now we want to conver the float32 tensor to float16 tensor\n",
        "# we can either use \"torch.float16\" or we can use \"torch.half\"\n",
        "float_16_tensor = float_32_tensor.type(torch.float16)\n",
        "float_16_tensor"
      ],
      "metadata": {
        "colab": {
          "base_uri": "https://localhost:8080/"
        },
        "id": "xxoE4HdY1Zkr",
        "outputId": "e8b21eae-78fb-4c1c-d622-7d3e217bc815"
      },
      "execution_count": 83,
      "outputs": [
        {
          "output_type": "execute_result",
          "data": {
            "text/plain": [
              "tensor([3., 6., 9.], dtype=torch.float16)"
            ]
          },
          "metadata": {},
          "execution_count": 83
        }
      ]
    },
    {
      "cell_type": "code",
      "source": [
        "float_16_tensor * float_32_tensor"
      ],
      "metadata": {
        "colab": {
          "base_uri": "https://localhost:8080/"
        },
        "id": "A6RduFYD3wxy",
        "outputId": "e752ee9b-7e83-4b88-f754-1b9b450caf49"
      },
      "execution_count": 84,
      "outputs": [
        {
          "output_type": "execute_result",
          "data": {
            "text/plain": [
              "tensor([ 9., 36., 81.])"
            ]
          },
          "metadata": {},
          "execution_count": 84
        }
      ]
    },
    {
      "cell_type": "code",
      "source": [
        "int_16_tensor * float_16_tensor"
      ],
      "metadata": {
        "colab": {
          "base_uri": "https://localhost:8080/"
        },
        "id": "iAzHbiUr4ElG",
        "outputId": "b5d2ece0-662f-4852-846f-790fa6acd1d4"
      },
      "execution_count": 85,
      "outputs": [
        {
          "output_type": "execute_result",
          "data": {
            "text/plain": [
              "tensor([ 9., 24., 45.], dtype=torch.float16)"
            ]
          },
          "metadata": {},
          "execution_count": 85
        }
      ]
    },
    {
      "cell_type": "markdown",
      "source": [
        "# Getting information from tensors\n",
        "\n",
        "1. Tensors not right datatype - to do get datatype from a tensor, can use `tensor.dtype`\n",
        "2. Tensors not right shape - to get shape form a tensor, can use `tensor.shape`\n",
        "3. Tensors not on the right device - to get device from a tensor, can use `tensor.device`"
      ],
      "metadata": {
        "id": "yBOuIrml4gD1"
      }
    },
    {
      "cell_type": "code",
      "source": [
        "## Create a tensors\n",
        "\n",
        "some_tensor = torch.rand(size = (3,4), dtype = torch.float16, device = \"cpu\", requires_grad=False)\n",
        "some_tensor"
      ],
      "metadata": {
        "colab": {
          "base_uri": "https://localhost:8080/"
        },
        "id": "jDgnvw-y7Tr1",
        "outputId": "d1609e30-04ca-492f-8f27-3590ac477760"
      },
      "execution_count": 86,
      "outputs": [
        {
          "output_type": "execute_result",
          "data": {
            "text/plain": [
              "tensor([[0.2007, 0.8154, 0.6719, 0.8491],\n",
              "        [0.0547, 0.7373, 0.2256, 0.6299],\n",
              "        [0.4204, 0.1377, 0.3330, 0.7861]], dtype=torch.float16)"
            ]
          },
          "metadata": {},
          "execution_count": 86
        }
      ]
    },
    {
      "cell_type": "code",
      "source": [
        "# Find out details about some tensor(this are tensors attributes)\n",
        "print(f\"Datatype of tensor:{some_tensor.dtype}\") # default datatype is float32\n",
        "print(f\"Our tensor is on {some_tensor.device}\") # By default it will be on cpu\n",
        "print(f\"Shape of our tensor is {some_tensor.shape}\") # here we can also use some_tensor.size() instead of the some_tensor.shape to find the size of the tensor"
      ],
      "metadata": {
        "colab": {
          "base_uri": "https://localhost:8080/"
        },
        "id": "j8UBmggW72bu",
        "outputId": "5c69269c-dfe0-4e40-995f-695c05956939"
      },
      "execution_count": 93,
      "outputs": [
        {
          "output_type": "stream",
          "name": "stdout",
          "text": [
            "Datatype of tensor:torch.float16\n",
            "Our tensor is on cpu\n",
            "Shape of our tensor is torch.Size([3, 4])\n"
          ]
        }
      ]
    },
    {
      "cell_type": "markdown",
      "source": [
        "Code example:\n",
        "```python\n",
        "print(f\"shape of our tensor is {some_tensor.size()}\")\n",
        "\n",
        "```"
      ],
      "metadata": {
        "id": "aT-IUchxIzNO"
      }
    },
    {
      "cell_type": "markdown",
      "source": [
        "# Manipulating Tensors (tensor operations)\n",
        "\n",
        "Tensor operation include:\n",
        "\n",
        "* `Addition`\n",
        "* `Subtraction`\n",
        "* `Multiplication (element-wise)`\n",
        "* `Division`\n",
        "* `Matrix multiplication`\n"
      ],
      "metadata": {
        "id": "lhyuKlDy8SY6"
      }
    },
    {
      "cell_type": "code",
      "source": [
        "# 1. Addition\n",
        "tensor = torch.tensor([1, 2, 3], dtype = torch.int32)\n",
        "tensor + 10 # it will add 10 to all the values of tensor"
      ],
      "metadata": {
        "colab": {
          "base_uri": "https://localhost:8080/"
        },
        "id": "sARyWIQyFsr5",
        "outputId": "fba9dc0d-e992-4d07-aa51-a723bd65c737"
      },
      "execution_count": 95,
      "outputs": [
        {
          "output_type": "execute_result",
          "data": {
            "text/plain": [
              "tensor([11, 12, 13], dtype=torch.int32)"
            ]
          },
          "metadata": {},
          "execution_count": 95
        }
      ]
    },
    {
      "cell_type": "markdown",
      "source": [
        "`NOTE`: for Addition we can also use torch.add()\n",
        "\n",
        "```python\n",
        "tensor = torch.add(tensor,10)\n",
        "```"
      ],
      "metadata": {
        "id": "as1WPXVZQlxh"
      }
    },
    {
      "cell_type": "code",
      "source": [
        "# 2. Multiplication element wise\n",
        "tensor * 10 # it will multiply 10 to all the values of tensor"
      ],
      "metadata": {
        "colab": {
          "base_uri": "https://localhost:8080/"
        },
        "id": "BF3AiuVmKbNE",
        "outputId": "39af73d3-a3ae-47a4-a33d-12aceb595854"
      },
      "execution_count": 100,
      "outputs": [
        {
          "output_type": "execute_result",
          "data": {
            "text/plain": [
              "tensor([10, 20, 30], dtype=torch.int32)"
            ]
          },
          "metadata": {},
          "execution_count": 100
        }
      ]
    },
    {
      "cell_type": "markdown",
      "source": [
        "`NOTE`: for multiplication we can also use torch.mul()\n",
        "\n",
        "```python\n",
        "tensor = torch.mul(tensor,10)\n",
        "```"
      ],
      "metadata": {
        "id": "zJKwPDzdQGcB"
      }
    },
    {
      "cell_type": "code",
      "source": [
        "## 3.Subtract\n",
        "tensor - 10 # it will subtract 10 to all the values of tensor"
      ],
      "metadata": {
        "colab": {
          "base_uri": "https://localhost:8080/"
        },
        "id": "3ZM7YKYlKy04",
        "outputId": "5119a07c-2efe-4704-94d2-a1062f0de7a2"
      },
      "execution_count": 98,
      "outputs": [
        {
          "output_type": "execute_result",
          "data": {
            "text/plain": [
              "tensor([-9, -8, -7], dtype=torch.int32)"
            ]
          },
          "metadata": {},
          "execution_count": 98
        }
      ]
    },
    {
      "cell_type": "code",
      "source": [
        "## 4. Divison\n",
        "tensor / 10 # it will divide all the values of tensor by 10"
      ],
      "metadata": {
        "colab": {
          "base_uri": "https://localhost:8080/"
        },
        "id": "AzKQ6PyRRAAm",
        "outputId": "e75cb94e-911e-4c66-b3bc-ec686b6dca51"
      },
      "execution_count": 99,
      "outputs": [
        {
          "output_type": "execute_result",
          "data": {
            "text/plain": [
              "tensor([0.1000, 0.2000, 0.3000])"
            ]
          },
          "metadata": {},
          "execution_count": 99
        }
      ]
    },
    {
      "cell_type": "markdown",
      "source": [
        "### Matrix multiplication\n",
        "\n",
        "Two main ways of performing multiplication in neural networks and deep learing\n",
        "\n",
        "1. `Element-wise Multiplication`\n",
        "2. `Matrix Multiplication (dot product)`\n",
        "\n",
        "There are two main rules that performing matrix multiplication need to satisfy:\n",
        "\n",
        "1. The **inner dimensions** must match:\n",
        "\n",
        "* `(3, 2) @ (3, 2)` won't work\n",
        "* `(2, 3) @ (3, 2)` will work\n",
        "* `(3, 2) @ (2, 3)` will work\n",
        "\n",
        "2. The resulting matrix has the shape of the **outer dimensions**:\n",
        "\n",
        "* `(2, 3) @ (3, 2) -> (2, 2)`\n",
        "* `(3, 2) @ (2, 3) -> (3, 3)`"
      ],
      "metadata": {
        "id": "GkYopdUhRQcL"
      }
    },
    {
      "cell_type": "code",
      "source": [
        "## Element wise multiplication\n",
        "\n",
        "print(tensor, '*', tensor ,f'Equals to {tensor * tensor}')"
      ],
      "metadata": {
        "colab": {
          "base_uri": "https://localhost:8080/"
        },
        "id": "kzbpYXx-R70m",
        "outputId": "efa682fe-b593-450f-f3bf-cff4262da1e5"
      },
      "execution_count": 105,
      "outputs": [
        {
          "output_type": "stream",
          "name": "stdout",
          "text": [
            "tensor([1, 2, 3], dtype=torch.int32) * tensor([1, 2, 3], dtype=torch.int32) Equals to tensor([1, 4, 9], dtype=torch.int32)\n"
          ]
        }
      ]
    },
    {
      "cell_type": "code",
      "source": [
        "# Matrix Multiplication\n",
        "torch.matmul(tensor, tensor)"
      ],
      "metadata": {
        "colab": {
          "base_uri": "https://localhost:8080/"
        },
        "id": "IpE5P_vzSnQk",
        "outputId": "76e2d757-4b50-4b5b-c244-cde66b383876"
      },
      "execution_count": 120,
      "outputs": [
        {
          "output_type": "execute_result",
          "data": {
            "text/plain": [
              "tensor(14, dtype=torch.int32)"
            ]
          },
          "metadata": {},
          "execution_count": 120
        }
      ]
    },
    {
      "cell_type": "markdown",
      "source": [
        "## we can also use @ operator for the Matrix Multiplication\n",
        "\n",
        "```python\n",
        "tensor @ tensor\n",
        "```"
      ],
      "metadata": {
        "id": "jlfFvaGgV8u7"
      }
    },
    {
      "cell_type": "code",
      "source": [
        "## Implementing Matrix Multiplication code by hand\n",
        "%%time\n",
        "val = 0\n",
        "for i in range(len(tensor)):\n",
        "  val += tensor[i] * tensor[i]\n",
        "print(val)"
      ],
      "metadata": {
        "colab": {
          "base_uri": "https://localhost:8080/"
        },
        "id": "BoK_AjrZTAS1",
        "outputId": "f20caf81-c4a0-4fc4-f5da-495040513514"
      },
      "execution_count": 109,
      "outputs": [
        {
          "output_type": "stream",
          "name": "stdout",
          "text": [
            "tensor(14, dtype=torch.int32)\n",
            "CPU times: user 1.18 ms, sys: 0 ns, total: 1.18 ms\n",
            "Wall time: 1.19 ms\n"
          ]
        }
      ]
    },
    {
      "cell_type": "code",
      "source": [
        "%%time\n",
        "torch.matmul(tensor, tensor)\n"
      ],
      "metadata": {
        "colab": {
          "base_uri": "https://localhost:8080/"
        },
        "id": "M1yFezeyUJuZ",
        "outputId": "6e4caada-6eb8-4449-8773-c54244b90b0a"
      },
      "execution_count": 114,
      "outputs": [
        {
          "output_type": "stream",
          "name": "stdout",
          "text": [
            "CPU times: user 555 µs, sys: 0 ns, total: 555 µs\n",
            "Wall time: 405 µs\n"
          ]
        },
        {
          "output_type": "execute_result",
          "data": {
            "text/plain": [
              "tensor(14, dtype=torch.int32)"
            ]
          },
          "metadata": {},
          "execution_count": 114
        }
      ]
    },
    {
      "cell_type": "markdown",
      "source": [
        "## One of the most common error in deep learning : **Shape Errors**"
      ],
      "metadata": {
        "id": "lFEpFSgZUT_D"
      }
    },
    {
      "cell_type": "code",
      "source": [
        "## Shapes for matrix multiplication\n",
        "\n",
        "tensor_A = torch.tensor([[1, 2],\n",
        "                         [3, 4],\n",
        "                         [5, 6]])\n",
        "\n",
        "tensor_B = torch.tensor([[7, 10],\n",
        "                         [8, 11],\n",
        "                         [9, 12]])\n",
        "\n",
        "# torch.mm(tensor_A, tenson_B) this is the same as torch.matmul(tensor_A, tensor_B) (it's an alias for matmul)\n",
        "torch.matmul(tensor_A, tensor_B.reshape(2,3))"
      ],
      "metadata": {
        "colab": {
          "base_uri": "https://localhost:8080/"
        },
        "id": "x-Qr-EKeXjLs",
        "outputId": "e5b2caad-ca3f-4f55-ddba-821ebcd6dedd"
      },
      "execution_count": 123,
      "outputs": [
        {
          "output_type": "execute_result",
          "data": {
            "text/plain": [
              "tensor([[ 29,  28,  32],\n",
              "        [ 65,  66,  72],\n",
              "        [101, 104, 112]])"
            ]
          },
          "metadata": {},
          "execution_count": 123
        }
      ]
    },
    {
      "cell_type": "markdown",
      "source": [
        "### To fix our tensor shape issues, we can manipulate the shape of one of our tensors using a **transpose.**\n",
        "A Transpose switches the axes or dimensions of a given tensor:"
      ],
      "metadata": {
        "id": "cOSsOxZpY6aY"
      }
    },
    {
      "cell_type": "code",
      "source": [
        "tensor_A = torch.rand(2, 3)\n",
        "tensor_B = torch.rand(2, 3)"
      ],
      "metadata": {
        "id": "h14f4XJfdJ09"
      },
      "execution_count": 125,
      "outputs": []
    },
    {
      "cell_type": "code",
      "source": [
        "# torch.matmul(tensor_A, tensor_B) # This will give us a Shape mismatch or shapes cannot be multiplied error"
      ],
      "metadata": {
        "id": "RZpW1k-9dcj7"
      },
      "execution_count": 130,
      "outputs": []
    },
    {
      "cell_type": "code",
      "source": [
        "tensor_B"
      ],
      "metadata": {
        "colab": {
          "base_uri": "https://localhost:8080/"
        },
        "id": "qnf_MMmHdsLA",
        "outputId": "ea491ea4-f2a9-4466-a2ce-ac224b20c308"
      },
      "execution_count": 127,
      "outputs": [
        {
          "output_type": "execute_result",
          "data": {
            "text/plain": [
              "tensor([[0.6598, 0.6469, 0.5825],\n",
              "        [0.7717, 0.7144, 0.7498]])"
            ]
          },
          "metadata": {},
          "execution_count": 127
        }
      ]
    },
    {
      "cell_type": "code",
      "source": [
        "tensor_B.T"
      ],
      "metadata": {
        "colab": {
          "base_uri": "https://localhost:8080/"
        },
        "id": "VP8Jd8J-dwBY",
        "outputId": "83b0e48b-f518-4fe5-8e71-43a07b154a14"
      },
      "execution_count": 128,
      "outputs": [
        {
          "output_type": "execute_result",
          "data": {
            "text/plain": [
              "tensor([[0.6598, 0.7717],\n",
              "        [0.6469, 0.7144],\n",
              "        [0.5825, 0.7498]])"
            ]
          },
          "metadata": {},
          "execution_count": 128
        }
      ]
    },
    {
      "cell_type": "code",
      "source": [
        "torch.matmul(tensor_A, tensor_B.T)"
      ],
      "metadata": {
        "colab": {
          "base_uri": "https://localhost:8080/"
        },
        "id": "emxftfeld0Hs",
        "outputId": "cb3fe36d-a669-479f-b771-df189e34a5fe"
      },
      "execution_count": 129,
      "outputs": [
        {
          "output_type": "execute_result",
          "data": {
            "text/plain": [
              "tensor([[1.2547, 1.4856],\n",
              "        [0.8693, 1.0341]])"
            ]
          },
          "metadata": {},
          "execution_count": 129
        }
      ]
    },
    {
      "cell_type": "code",
      "source": [
        "# The Matrix Multiplication operation works when tensor_B is Transposed\n",
        "print(f\"Original shapes: tensor_A = {tensor_A.shape}, tensor_B = {tensor_B.shape}\")\n",
        "print(f\"New shapes: tensor_A = {tensor_A.shape} (same shape as above), tensor_B.T = {tensor_B.T.shape}\")\n",
        "print(f\"Multiplying: {tensor_A.shape} @ {tensor_B.T.shape} <- inner dimensions must match\")\n",
        "print(\"Output:\\n\")\n",
        "output = torch.matmul(tensor_A, tensor_B.T)\n",
        "print(output)\n",
        "print(f\"\\nOutput shape: {output.shape}\")"
      ],
      "metadata": {
        "colab": {
          "base_uri": "https://localhost:8080/"
        },
        "id": "aEUznDcwd6QS",
        "outputId": "85484eb0-6b76-4f3c-c51a-218f849474f5"
      },
      "execution_count": 133,
      "outputs": [
        {
          "output_type": "stream",
          "name": "stdout",
          "text": [
            "Original shapes: tensor_A = torch.Size([2, 3]), tensor_B = torch.Size([2, 3])\n",
            "New shapes: tensor_A = torch.Size([2, 3]) (same shape as above), tensor_B.T = torch.Size([3, 2])\n",
            "Multiplying: torch.Size([2, 3]) @ torch.Size([3, 2]) <- inner dimensions must match\n",
            "Output:\n",
            "\n",
            "tensor([[1.2547, 1.4856],\n",
            "        [0.8693, 1.0341]])\n",
            "\n",
            "Output shape: torch.Size([2, 2])\n"
          ]
        }
      ]
    },
    {
      "cell_type": "markdown",
      "source": [
        "## Finding the min, max, mean, sum, etc (tensor aggregation)"
      ],
      "metadata": {
        "id": "51cu0b6Qje7g"
      }
    },
    {
      "cell_type": "code",
      "source": [
        "x = torch.arange(1, 100, 10)\n",
        "x"
      ],
      "metadata": {
        "colab": {
          "base_uri": "https://localhost:8080/"
        },
        "id": "8TGnU3Aeu12K",
        "outputId": "deeb7387-746f-4c79-8831-ed21888702b7"
      },
      "execution_count": 134,
      "outputs": [
        {
          "output_type": "execute_result",
          "data": {
            "text/plain": [
              "tensor([ 1, 11, 21, 31, 41, 51, 61, 71, 81, 91])"
            ]
          },
          "metadata": {},
          "execution_count": 134
        }
      ]
    },
    {
      "cell_type": "code",
      "source": [
        "x.dtype"
      ],
      "metadata": {
        "colab": {
          "base_uri": "https://localhost:8080/"
        },
        "id": "1vH0maL0wm-C",
        "outputId": "52241e58-0cbb-4ef3-b73a-d721af8e035a"
      },
      "execution_count": 135,
      "outputs": [
        {
          "output_type": "execute_result",
          "data": {
            "text/plain": [
              "torch.int64"
            ]
          },
          "metadata": {},
          "execution_count": 135
        }
      ]
    },
    {
      "cell_type": "code",
      "source": [
        "# to find min value\n",
        "print(torch.min(x))\n",
        "print(x.min())\n",
        "# we can use either of any one"
      ],
      "metadata": {
        "colab": {
          "base_uri": "https://localhost:8080/"
        },
        "id": "kZsSr9qowo6P",
        "outputId": "ecf22e77-e189-4bb3-c7d9-95d06e762196"
      },
      "execution_count": 136,
      "outputs": [
        {
          "output_type": "stream",
          "name": "stdout",
          "text": [
            "tensor(1)\n",
            "tensor(1)\n"
          ]
        }
      ]
    },
    {
      "cell_type": "code",
      "source": [
        "# to find max value\n",
        "print(torch.max(x))\n",
        "print(x.max())\n",
        "# we can use either of any one"
      ],
      "metadata": {
        "colab": {
          "base_uri": "https://localhost:8080/"
        },
        "id": "5fADsgJAxoE6",
        "outputId": "67c4015f-fc1b-4129-f167-3c384bc29df1"
      },
      "execution_count": 137,
      "outputs": [
        {
          "output_type": "stream",
          "name": "stdout",
          "text": [
            "tensor(91)\n",
            "tensor(91)\n"
          ]
        }
      ]
    },
    {
      "cell_type": "code",
      "source": [
        "# to find mean value\n",
        "print(torch.mean(x.type(torch.float32)))\n",
        "print(x.type(torch.float32).mean())\n",
        "# we can use either of any one to find mean value of the given tensor\n",
        "# Note: torch.mean() function  requires a tensor of float32 datatype to work"
      ],
      "metadata": {
        "colab": {
          "base_uri": "https://localhost:8080/"
        },
        "id": "e33DmaoyzGm3",
        "outputId": "f7784611-1390-4118-c310-b14bc6a73196"
      },
      "execution_count": 138,
      "outputs": [
        {
          "output_type": "stream",
          "name": "stdout",
          "text": [
            "tensor(46.)\n",
            "tensor(46.)\n"
          ]
        }
      ]
    },
    {
      "cell_type": "code",
      "source": [
        "# to find sum of the given tensor we can use\n",
        "# either\n",
        "print(torch.sum(x))\n",
        "# or\n",
        "print(x.sum())"
      ],
      "metadata": {
        "colab": {
          "base_uri": "https://localhost:8080/"
        },
        "id": "_zcBaYztztsL",
        "outputId": "696982ee-c256-4390-a855-6b21add4115a"
      },
      "execution_count": 139,
      "outputs": [
        {
          "output_type": "stream",
          "name": "stdout",
          "text": [
            "tensor(460)\n",
            "tensor(460)\n"
          ]
        }
      ]
    },
    {
      "cell_type": "markdown",
      "source": [
        "## write a code to find positional min, max of the given tensor"
      ],
      "metadata": {
        "id": "_GjhiFll0AAh"
      }
    },
    {
      "cell_type": "code",
      "source": [
        "# we can use argmax or argmin to find positional min, max of the given tensor\n",
        "print(f\"Minimum value is at the index: {torch.argmin(x)} in the given tensor\")\n",
        "print(f\"Maximum value is at the index: {torch.argmax(x)} in the given tensor\")"
      ],
      "metadata": {
        "colab": {
          "base_uri": "https://localhost:8080/"
        },
        "id": "g-LbBUjg0aTv",
        "outputId": "e64e2f53-de09-4ff7-8708-fdec8d295623"
      },
      "execution_count": 145,
      "outputs": [
        {
          "output_type": "stream",
          "name": "stdout",
          "text": [
            "Minimum value is at the index: 0 in the given tensor\n",
            "Maximum value is at the index: 9 in the given tensor\n"
          ]
        }
      ]
    },
    {
      "cell_type": "code",
      "source": [
        "print(f\"we have minimum value {x[torch.argmin(x)]} at the index of {torch.argmin(x)}\")\n",
        "print(f\"we have maximum value {x[torch.argmax(x)]} at the index of {torch.argmax(x)}\")"
      ],
      "metadata": {
        "colab": {
          "base_uri": "https://localhost:8080/"
        },
        "id": "sVrI0uh50_ot",
        "outputId": "d668108d-142d-4435-a39f-3ca169a7d27c"
      },
      "execution_count": 146,
      "outputs": [
        {
          "output_type": "stream",
          "name": "stdout",
          "text": [
            "we have minimum value 1 at the index of 0\n",
            "we have maximum value 91 at the index of 9\n"
          ]
        }
      ]
    },
    {
      "cell_type": "markdown",
      "source": [],
      "metadata": {
        "id": "c3Yhc4iS3F-7"
      }
    },
    {
      "cell_type": "markdown",
      "source": [
        "## Now We will try do Reshaping, stacking, squeezing and unsqueezing of the given tensor\n",
        "\n",
        "* `Reshaping` - reshape an input tensor to a defined shape\n",
        "\n",
        "* `View` - Return a view of an input tensor of certain shape but keep the same memory as the original tensor\n",
        "\n",
        "* `Stacking` - combine multiple tensors on top of each other (vstack) or side by side (hstack)\n",
        "\n",
        "* `Squeeze` - removes all `1` dimensions from a tensor\n",
        "\n",
        "* `Unsqueeze` - add a `1` dimension to a target tensor\n",
        "\n",
        "* `Permute` - Return a view of the input with dimensions permuted (swapped) in a certain way"
      ],
      "metadata": {
        "id": "Xe3qMVEV2cIx"
      }
    },
    {
      "cell_type": "code",
      "source": [
        "# Creating a tensor\n",
        "import torch\n",
        "tensor_x = torch.arange(1. , 10.)\n",
        "tensor_x"
      ],
      "metadata": {
        "colab": {
          "base_uri": "https://localhost:8080/"
        },
        "id": "BzWwV4nb3FiK",
        "outputId": "f54be26c-d5e7-42e1-85e4-306572e5aa04"
      },
      "execution_count": 147,
      "outputs": [
        {
          "output_type": "execute_result",
          "data": {
            "text/plain": [
              "tensor([1., 2., 3., 4., 5., 6., 7., 8., 9.])"
            ]
          },
          "metadata": {},
          "execution_count": 147
        }
      ]
    },
    {
      "cell_type": "markdown",
      "source": [
        "### 1. Reshaping"
      ],
      "metadata": {
        "id": "9lLgJ_KC9d5L"
      }
    },
    {
      "cell_type": "code",
      "source": [
        "print(f\"Tensor shape is {tensor_x.shape}\")"
      ],
      "metadata": {
        "colab": {
          "base_uri": "https://localhost:8080/"
        },
        "id": "8asF09DS5Xq3",
        "outputId": "23f7911b-6418-46b0-e74c-d1904b623136"
      },
      "execution_count": 148,
      "outputs": [
        {
          "output_type": "stream",
          "name": "stdout",
          "text": [
            "Tensor shape is torch.Size([9])\n"
          ]
        }
      ]
    },
    {
      "cell_type": "code",
      "source": [
        "# Add an extra dimension(by using Reshape)\n",
        "tensor_y = tensor_x.reshape(1,9)\n",
        "tensor_y"
      ],
      "metadata": {
        "colab": {
          "base_uri": "https://localhost:8080/"
        },
        "id": "CXVJohC15gRY",
        "outputId": "e0493ded-d339-45eb-bd35-de0de3fd7714"
      },
      "execution_count": 149,
      "outputs": [
        {
          "output_type": "execute_result",
          "data": {
            "text/plain": [
              "tensor([[1., 2., 3., 4., 5., 6., 7., 8., 9.]])"
            ]
          },
          "metadata": {},
          "execution_count": 149
        }
      ]
    },
    {
      "cell_type": "code",
      "source": [
        "print(f\"Shape of the tensor before Reshaping is : {tensor_x.shape}\")\n",
        "print(f\"Shape of the tensor after Reshaping is: {tensor_y.shape}\")"
      ],
      "metadata": {
        "colab": {
          "base_uri": "https://localhost:8080/"
        },
        "id": "3pD-v-Yp51es",
        "outputId": "c951e312-9219-4efd-e69f-248c5b19ffce"
      },
      "execution_count": 150,
      "outputs": [
        {
          "output_type": "stream",
          "name": "stdout",
          "text": [
            "Shape of the tensor before Reshaping is : torch.Size([9])\n",
            "Shape of the tensor after Reshaping is: torch.Size([1, 9])\n"
          ]
        }
      ]
    },
    {
      "cell_type": "code",
      "source": [
        "# what if i try reshape(3,-1)\n",
        "tensor_z = tensor_x.reshape(3,-1)\n",
        "tensor_z"
      ],
      "metadata": {
        "colab": {
          "base_uri": "https://localhost:8080/"
        },
        "id": "NUuygE816HSe",
        "outputId": "f57be914-005a-40ec-b9f8-36c79f967eef"
      },
      "execution_count": 152,
      "outputs": [
        {
          "output_type": "execute_result",
          "data": {
            "text/plain": [
              "tensor([[1., 2., 3.],\n",
              "        [4., 5., 6.],\n",
              "        [7., 8., 9.]])"
            ]
          },
          "metadata": {},
          "execution_count": 152
        }
      ]
    },
    {
      "cell_type": "code",
      "source": [
        "print(f\"Shape of the tensor before Reshaping is : {tensor_x.shape}\")\n",
        "print(f\"shape of the tensor after Reshaping(3, -1) is :{tensor_x.reshape(3, -1).shape}\")"
      ],
      "metadata": {
        "colab": {
          "base_uri": "https://localhost:8080/"
        },
        "id": "ZuMosH6g6xun",
        "outputId": "1bc1b02e-69fa-4ec5-92b2-10c9a4558c0e"
      },
      "execution_count": 153,
      "outputs": [
        {
          "output_type": "stream",
          "name": "stdout",
          "text": [
            "Shape of the tensor before Reshaping is : torch.Size([9])\n",
            "shape of the tensor after Reshaping(3, -1) is :torch.Size([3, 3])\n"
          ]
        }
      ]
    },
    {
      "cell_type": "markdown",
      "source": [
        "### 2. View"
      ],
      "metadata": {
        "id": "jp_agkr-7PwY"
      }
    },
    {
      "cell_type": "code",
      "source": [
        "# change the view\n",
        "tensor_view = tensor_x.view(1,9)\n",
        "tensor_view"
      ],
      "metadata": {
        "colab": {
          "base_uri": "https://localhost:8080/"
        },
        "id": "IdvkPfJR-BJK",
        "outputId": "c70543bb-a891-42ee-f669-d0ed14a2f097"
      },
      "execution_count": 154,
      "outputs": [
        {
          "output_type": "execute_result",
          "data": {
            "text/plain": [
              "tensor([[1., 2., 3., 4., 5., 6., 7., 8., 9.]])"
            ]
          },
          "metadata": {},
          "execution_count": 154
        }
      ]
    },
    {
      "cell_type": "code",
      "source": [
        "### Note : Changing tensor_view changes tensore_x (because a view of a tensor shares the same memory as the original input)\n",
        "print(f\"Tensor before do some changes into tensor_view : {tensor_x}\")\n",
        "tensor_view[:,0] = 5.0\n",
        "print(f\"Tensor after do some changes intp tensor_view : {tensor_x}\")"
      ],
      "metadata": {
        "colab": {
          "base_uri": "https://localhost:8080/"
        },
        "id": "bn81TaiC-RH1",
        "outputId": "11f37b5b-0a6f-4f00-c91f-0e73ab2e4626"
      },
      "execution_count": 158,
      "outputs": [
        {
          "output_type": "stream",
          "name": "stdout",
          "text": [
            "Tensor before do some changes into tensor_view : tensor([1., 2., 3., 4., 5., 6., 7., 8., 9.])\n",
            "Tensor after do some changes intp tensor_view : tensor([5., 2., 3., 4., 5., 6., 7., 8., 9.])\n"
          ]
        }
      ]
    },
    {
      "cell_type": "markdown",
      "source": [
        "### 3.Stacking\n"
      ],
      "metadata": {
        "id": "6_SUYDo2_Sap"
      }
    },
    {
      "cell_type": "code",
      "source": [
        "# Stack tensors on top of each other\n",
        "x_stacked_h = torch.stack([tensor_x,tensor_x,tensor_x,tensor_x], dim = 0) # dim = 0 done the horizontal stacking\n",
        "x_stacked_h"
      ],
      "metadata": {
        "colab": {
          "base_uri": "https://localhost:8080/"
        },
        "id": "6FWJahHh_rGh",
        "outputId": "7d46cc34-9017-4a8e-ba24-fd63bb7574ed"
      },
      "execution_count": 162,
      "outputs": [
        {
          "output_type": "execute_result",
          "data": {
            "text/plain": [
              "tensor([[5., 2., 3., 4., 5., 6., 7., 8., 9.],\n",
              "        [5., 2., 3., 4., 5., 6., 7., 8., 9.],\n",
              "        [5., 2., 3., 4., 5., 6., 7., 8., 9.],\n",
              "        [5., 2., 3., 4., 5., 6., 7., 8., 9.]])"
            ]
          },
          "metadata": {},
          "execution_count": 162
        }
      ]
    },
    {
      "cell_type": "code",
      "source": [
        "x_stacked_v = torch.stack([tensor_x,tensor_x,tensor_x,tensor_x], dim = 1)\n",
        "x_stacked_v"
      ],
      "metadata": {
        "colab": {
          "base_uri": "https://localhost:8080/"
        },
        "id": "umP0f9f_BGAK",
        "outputId": "5cd173fc-b600-438e-9b6e-5584b76e9beb"
      },
      "execution_count": 163,
      "outputs": [
        {
          "output_type": "execute_result",
          "data": {
            "text/plain": [
              "tensor([[5., 5., 5., 5.],\n",
              "        [2., 2., 2., 2.],\n",
              "        [3., 3., 3., 3.],\n",
              "        [4., 4., 4., 4.],\n",
              "        [5., 5., 5., 5.],\n",
              "        [6., 6., 6., 6.],\n",
              "        [7., 7., 7., 7.],\n",
              "        [8., 8., 8., 8.],\n",
              "        [9., 9., 9., 9.]])"
            ]
          },
          "metadata": {},
          "execution_count": 163
        }
      ]
    },
    {
      "cell_type": "code",
      "source": [
        "x_stacked_h.shape"
      ],
      "metadata": {
        "colab": {
          "base_uri": "https://localhost:8080/"
        },
        "id": "FcvX8Nm6Bt5e",
        "outputId": "93d2daae-ba2a-4d71-eaf8-21f199c6cc95"
      },
      "execution_count": 164,
      "outputs": [
        {
          "output_type": "execute_result",
          "data": {
            "text/plain": [
              "torch.Size([4, 9])"
            ]
          },
          "metadata": {},
          "execution_count": 164
        }
      ]
    },
    {
      "cell_type": "code",
      "source": [
        "x_stacked_v.shape"
      ],
      "metadata": {
        "colab": {
          "base_uri": "https://localhost:8080/"
        },
        "id": "ZFTjQLwPB1WX",
        "outputId": "fe6b9bdd-5fef-4da4-d015-8bd086ae68c3"
      },
      "execution_count": 165,
      "outputs": [
        {
          "output_type": "execute_result",
          "data": {
            "text/plain": [
              "torch.Size([9, 4])"
            ]
          },
          "metadata": {},
          "execution_count": 165
        }
      ]
    },
    {
      "cell_type": "markdown",
      "source": [
        "### 4. Squeeze - Removes all single dimensions from a target tensor"
      ],
      "metadata": {
        "id": "ZV7fKbnUB4Z7"
      }
    },
    {
      "cell_type": "code",
      "source": [],
      "metadata": {
        "id": "PGMnC85fCKLG"
      },
      "execution_count": null,
      "outputs": []
    }
  ]
}