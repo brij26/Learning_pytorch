{
  "nbformat": 4,
  "nbformat_minor": 0,
  "metadata": {
    "colab": {
      "provenance": [],
      "gpuType": "T4"
    },
    "kernelspec": {
      "name": "python3",
      "display_name": "Python 3"
    },
    "language_info": {
      "name": "python"
    },
    "accelerator": "GPU"
  },
  "cells": [
    {
      "cell_type": "markdown",
      "source": [
        "# **`Gettting started with PYTORCH`**"
      ],
      "metadata": {
        "id": "cxwPV9N-u9VX"
      }
    },
    {
      "cell_type": "code",
      "source": [
        "import torch\n",
        "import pandas as pd\n",
        "import numpy as np\n",
        "import matplotlib.pyplot as plt\n",
        "print(torch.__version__)"
      ],
      "metadata": {
        "colab": {
          "base_uri": "https://localhost:8080/"
        },
        "id": "rkxDwS__NEwH",
        "outputId": "c265bf76-fd27-4a02-c876-41b77a0f59f5"
      },
      "execution_count": null,
      "outputs": [
        {
          "output_type": "stream",
          "name": "stdout",
          "text": [
            "2.6.0+cu124\n"
          ]
        }
      ]
    },
    {
      "cell_type": "markdown",
      "source": [
        "## Introduction to a tensor\n",
        "- Creating tensor"
      ],
      "metadata": {
        "id": "Pd6LO1p2NpuV"
      }
    },
    {
      "cell_type": "markdown",
      "source": [
        "1. scaler"
      ],
      "metadata": {
        "id": "bApwGhozfx2M"
      }
    },
    {
      "cell_type": "code",
      "source": [
        "## Scaler\n",
        "scaler = torch.tensor(7)\n",
        "type(scaler)"
      ],
      "metadata": {
        "colab": {
          "base_uri": "https://localhost:8080/"
        },
        "id": "HDsqYfe4eddY",
        "outputId": "b4d944f9-2b8d-4a24-e240-7c63ec75cb75"
      },
      "execution_count": null,
      "outputs": [
        {
          "output_type": "execute_result",
          "data": {
            "text/plain": [
              "torch.Tensor"
            ]
          },
          "metadata": {},
          "execution_count": 9
        }
      ]
    },
    {
      "cell_type": "code",
      "source": [
        "# ndim shows us the dimension of the tensor\n",
        "scaler.ndim"
      ],
      "metadata": {
        "colab": {
          "base_uri": "https://localhost:8080/"
        },
        "id": "s_xN1mywettZ",
        "outputId": "763229b6-65a8-4099-bbbe-4dd710e50cca"
      },
      "execution_count": null,
      "outputs": [
        {
          "output_type": "execute_result",
          "data": {
            "text/plain": [
              "0"
            ]
          },
          "metadata": {},
          "execution_count": 7
        }
      ]
    },
    {
      "cell_type": "code",
      "source": [
        "# get tensor back as python int\n",
        "scaler.item()\n",
        "type(scaler.item())"
      ],
      "metadata": {
        "colab": {
          "base_uri": "https://localhost:8080/"
        },
        "id": "UhU0yxygfYfb",
        "outputId": "007f5af7-89ab-47e4-b238-586fbf4a9fcc"
      },
      "execution_count": null,
      "outputs": [
        {
          "output_type": "execute_result",
          "data": {
            "text/plain": [
              "int"
            ]
          },
          "metadata": {},
          "execution_count": 11
        }
      ]
    },
    {
      "cell_type": "markdown",
      "source": [
        "2. vector"
      ],
      "metadata": {
        "id": "iMapmYGtfi68"
      }
    },
    {
      "cell_type": "code",
      "source": [
        "## vector\n",
        "vector = torch.tensor([7,7])\n",
        "vector"
      ],
      "metadata": {
        "colab": {
          "base_uri": "https://localhost:8080/"
        },
        "id": "t3A7cRUTf2nT",
        "outputId": "78882ba2-b55f-4f5b-f094-b8595782b064"
      },
      "execution_count": null,
      "outputs": [
        {
          "output_type": "execute_result",
          "data": {
            "text/plain": [
              "tensor([7, 7])"
            ]
          },
          "metadata": {},
          "execution_count": 13
        }
      ]
    },
    {
      "cell_type": "code",
      "source": [
        "vector.ndim"
      ],
      "metadata": {
        "colab": {
          "base_uri": "https://localhost:8080/"
        },
        "id": "Em4V2TZaf4fV",
        "outputId": "da723609-7766-413e-cea5-8baba0e59218"
      },
      "execution_count": null,
      "outputs": [
        {
          "output_type": "execute_result",
          "data": {
            "text/plain": [
              "1"
            ]
          },
          "metadata": {},
          "execution_count": 14
        }
      ]
    },
    {
      "cell_type": "code",
      "source": [
        "# shape shows us the what is the height, width or depth\n",
        "# if the tensor have depth\n",
        "vector.shape"
      ],
      "metadata": {
        "colab": {
          "base_uri": "https://localhost:8080/"
        },
        "id": "exNXUcNDgBns",
        "outputId": "bd060382-d621-41a7-d456-344592b1198f"
      },
      "execution_count": null,
      "outputs": [
        {
          "output_type": "execute_result",
          "data": {
            "text/plain": [
              "torch.Size([2])"
            ]
          },
          "metadata": {},
          "execution_count": 15
        }
      ]
    },
    {
      "cell_type": "markdown",
      "source": [
        "3. Matrix"
      ],
      "metadata": {
        "id": "P9tRq7PohhuT"
      }
    },
    {
      "cell_type": "code",
      "source": [
        "## MATRIX\n",
        "\n",
        "MATRIX = torch.tensor([[7,8],\n",
        "                       [9,10]])"
      ],
      "metadata": {
        "id": "X-hhwwJngED8"
      },
      "execution_count": null,
      "outputs": []
    },
    {
      "cell_type": "code",
      "source": [
        "MATRIX"
      ],
      "metadata": {
        "colab": {
          "base_uri": "https://localhost:8080/"
        },
        "id": "oB29_QgDgSdu",
        "outputId": "64446b3b-1689-4082-c1a2-f2805533baa4"
      },
      "execution_count": null,
      "outputs": [
        {
          "output_type": "execute_result",
          "data": {
            "text/plain": [
              "tensor([[ 7,  8],\n",
              "        [ 9, 10]])"
            ]
          },
          "metadata": {},
          "execution_count": 17
        }
      ]
    },
    {
      "cell_type": "code",
      "source": [
        "MATRIX.ndim"
      ],
      "metadata": {
        "colab": {
          "base_uri": "https://localhost:8080/"
        },
        "id": "aaaGqXvMgTbN",
        "outputId": "47e16754-9678-4bf7-b0fd-5c93de1e4c9c"
      },
      "execution_count": null,
      "outputs": [
        {
          "output_type": "execute_result",
          "data": {
            "text/plain": [
              "2"
            ]
          },
          "metadata": {},
          "execution_count": 18
        }
      ]
    },
    {
      "cell_type": "code",
      "source": [
        "MATRIX.shape"
      ],
      "metadata": {
        "colab": {
          "base_uri": "https://localhost:8080/"
        },
        "id": "SHDEJ0IegWSt",
        "outputId": "97b5a387-3dce-44e1-c39f-f295259603bd"
      },
      "execution_count": null,
      "outputs": [
        {
          "output_type": "execute_result",
          "data": {
            "text/plain": [
              "torch.Size([2, 2])"
            ]
          },
          "metadata": {},
          "execution_count": 19
        }
      ]
    },
    {
      "cell_type": "code",
      "source": [
        "MATRIX[0][0]"
      ],
      "metadata": {
        "colab": {
          "base_uri": "https://localhost:8080/"
        },
        "id": "QDoEfIk-gY0s",
        "outputId": "69d0d963-b2b4-41e3-c727-5743af79590b"
      },
      "execution_count": null,
      "outputs": [
        {
          "output_type": "execute_result",
          "data": {
            "text/plain": [
              "tensor(7)"
            ]
          },
          "metadata": {},
          "execution_count": 21
        }
      ]
    },
    {
      "cell_type": "markdown",
      "source": [
        "4. Tensor"
      ],
      "metadata": {
        "id": "f54RFGOyhe1T"
      }
    },
    {
      "cell_type": "code",
      "source": [
        "## TENSOR\n",
        "TENSOR = torch.tensor([[[1,2,3],\n",
        "                        [4,5,6]\n",
        "                        ]])\n",
        "\n",
        "TENSOR"
      ],
      "metadata": {
        "colab": {
          "base_uri": "https://localhost:8080/"
        },
        "id": "ozO74pB1gdNG",
        "outputId": "447fcd72-e6a2-4cfd-ad8d-084b4eecad8e"
      },
      "execution_count": null,
      "outputs": [
        {
          "output_type": "execute_result",
          "data": {
            "text/plain": [
              "tensor([[[1, 2, 3],\n",
              "         [4, 5, 6]]])"
            ]
          },
          "metadata": {},
          "execution_count": 25
        }
      ]
    },
    {
      "cell_type": "code",
      "source": [
        "TENSOR.ndim"
      ],
      "metadata": {
        "colab": {
          "base_uri": "https://localhost:8080/"
        },
        "id": "Djm_PX1Qg1EQ",
        "outputId": "f09df341-09f9-4480-b6da-79e906b0829b"
      },
      "execution_count": null,
      "outputs": [
        {
          "output_type": "execute_result",
          "data": {
            "text/plain": [
              "3"
            ]
          },
          "metadata": {},
          "execution_count": 26
        }
      ]
    },
    {
      "cell_type": "code",
      "source": [
        "## shape is printing like (depth, height, witdth)\n",
        "TENSOR.shape"
      ],
      "metadata": {
        "colab": {
          "base_uri": "https://localhost:8080/"
        },
        "id": "T0NI5Vfpg356",
        "outputId": "ea504296-b33b-48f3-9045-db5bfa799323"
      },
      "execution_count": null,
      "outputs": [
        {
          "output_type": "execute_result",
          "data": {
            "text/plain": [
              "torch.Size([1, 2, 3])"
            ]
          },
          "metadata": {},
          "execution_count": 27
        }
      ]
    },
    {
      "cell_type": "markdown",
      "source": [
        "## `**we write the MATRIX and TENSOR in capital because generally in the python we write of define the  matrix or the tensor as upper(A) or any latter or a name for example   A, M, X etc...**`"
      ],
      "metadata": {
        "id": "mhdZJGzGi4XG"
      }
    },
    {
      "cell_type": "markdown",
      "source": [
        "### now how can we create the random tensor\n",
        "\n",
        "Why Random tensor?\n",
        "\n",
        "Random tensors are important because the way many neural networks learn is that they start with tensors full of random numbers and then adjust random numbers to better represent the data.\n",
        "\n",
        "`Start with random numbers -> look at data -> update random numbers -> look at data -> update random numbers`\n",
        "\n",
        "\n"
      ],
      "metadata": {
        "id": "4Z6OaIbHhKbz"
      }
    },
    {
      "cell_type": "code",
      "source": [
        "# Create a random tensor of shape of size(3,4)\n",
        "random_tensor = torch.rand(3,4)\n",
        "random_tensor"
      ],
      "metadata": {
        "colab": {
          "base_uri": "https://localhost:8080/"
        },
        "id": "MWNjoA6yj33v",
        "outputId": "372c1310-25c7-440b-ba16-88d0e3f778e4"
      },
      "execution_count": null,
      "outputs": [
        {
          "output_type": "execute_result",
          "data": {
            "text/plain": [
              "tensor([[0.0014, 0.6588, 0.6408, 0.3089],\n",
              "        [0.7080, 0.0479, 0.3043, 0.4440],\n",
              "        [0.1272, 0.3964, 0.9005, 0.9999]])"
            ]
          },
          "metadata": {},
          "execution_count": 29
        }
      ]
    },
    {
      "cell_type": "code",
      "source": [
        "random_tensor.ndim"
      ],
      "metadata": {
        "colab": {
          "base_uri": "https://localhost:8080/"
        },
        "id": "Pb2ciCuclGqh",
        "outputId": "ba0cc74f-b79f-4da8-ad25-5778c68d8c06"
      },
      "execution_count": null,
      "outputs": [
        {
          "output_type": "execute_result",
          "data": {
            "text/plain": [
              "2"
            ]
          },
          "metadata": {},
          "execution_count": 30
        }
      ]
    },
    {
      "cell_type": "code",
      "source": [
        "random_tensor.shape"
      ],
      "metadata": {
        "colab": {
          "base_uri": "https://localhost:8080/"
        },
        "id": "1Ct60k70lNwZ",
        "outputId": "799d72c4-030c-4571-b8d5-8814503160ce"
      },
      "execution_count": null,
      "outputs": [
        {
          "output_type": "execute_result",
          "data": {
            "text/plain": [
              "torch.Size([3, 4])"
            ]
          },
          "metadata": {},
          "execution_count": 31
        }
      ]
    },
    {
      "cell_type": "code",
      "source": [
        "# Create a random tensor with similar shape to an image tensor\n",
        "random_image_size_tensor = torch.rand(size = (3, 224, 224)) # height, width, colour channels (R, G, B)\n",
        "random_image_size_tensor.shape,random_image_size_tensor.ndim"
      ],
      "metadata": {
        "colab": {
          "base_uri": "https://localhost:8080/"
        },
        "id": "btqFlPQflQVW",
        "outputId": "9bc2fc5e-0445-4066-f297-be792ae342f6"
      },
      "execution_count": null,
      "outputs": [
        {
          "output_type": "execute_result",
          "data": {
            "text/plain": [
              "(torch.Size([3, 224, 224]), 3)"
            ]
          },
          "metadata": {},
          "execution_count": 33
        }
      ]
    },
    {
      "cell_type": "code",
      "source": [
        "fake_image = torch.rand(size = (1,28,28))\n",
        "fake_image.shape, fake_image.ndim"
      ],
      "metadata": {
        "colab": {
          "base_uri": "https://localhost:8080/"
        },
        "id": "KJLxf8c6mJYz",
        "outputId": "bf1b3ca0-3b36-45d6-f429-a25e1ee919f9"
      },
      "execution_count": null,
      "outputs": [
        {
          "output_type": "execute_result",
          "data": {
            "text/plain": [
              "(torch.Size([1, 28, 28]), 3)"
            ]
          },
          "metadata": {},
          "execution_count": 34
        }
      ]
    },
    {
      "cell_type": "markdown",
      "source": [
        "### Zerosa and Ones tensor"
      ],
      "metadata": {
        "id": "sQFOsN8Dm1SZ"
      }
    },
    {
      "cell_type": "code",
      "source": [
        "# create a tensor of all zeros\n",
        "zero = torch.zeros(size = (3,4))\n",
        "zero"
      ],
      "metadata": {
        "colab": {
          "base_uri": "https://localhost:8080/"
        },
        "id": "uzusOdMrtSfh",
        "outputId": "967b7ddf-6a3b-43c0-9561-dd0d1484e798"
      },
      "execution_count": null,
      "outputs": [
        {
          "output_type": "execute_result",
          "data": {
            "text/plain": [
              "tensor([[0., 0., 0., 0.],\n",
              "        [0., 0., 0., 0.],\n",
              "        [0., 0., 0., 0.]])"
            ]
          },
          "metadata": {},
          "execution_count": 35
        }
      ]
    },
    {
      "cell_type": "code",
      "source": [
        "answer = torch.zeros(size = (3,4))*torch.rand(size = (3,4))\n",
        "answer"
      ],
      "metadata": {
        "colab": {
          "base_uri": "https://localhost:8080/"
        },
        "id": "UmIL7nwAtc2j",
        "outputId": "36a4b581-03a0-4884-bb5c-eae079ac3303"
      },
      "execution_count": null,
      "outputs": [
        {
          "output_type": "execute_result",
          "data": {
            "text/plain": [
              "tensor([[0., 0., 0., 0.],\n",
              "        [0., 0., 0., 0.],\n",
              "        [0., 0., 0., 0.]])"
            ]
          },
          "metadata": {},
          "execution_count": 36
        }
      ]
    },
    {
      "cell_type": "code",
      "source": [
        "## tensor of all ones\n",
        "ones = torch.ones(size = (3,4))\n",
        "ones"
      ],
      "metadata": {
        "colab": {
          "base_uri": "https://localhost:8080/"
        },
        "id": "Hklqp-uxtrdO",
        "outputId": "1123b7fd-08b6-4c1f-c92b-037eaab0250b"
      },
      "execution_count": null,
      "outputs": [
        {
          "output_type": "execute_result",
          "data": {
            "text/plain": [
              "tensor([[1., 1., 1., 1.],\n",
              "        [1., 1., 1., 1.],\n",
              "        [1., 1., 1., 1.]])"
            ]
          },
          "metadata": {},
          "execution_count": 41
        }
      ]
    },
    {
      "cell_type": "code",
      "source": [
        "## datatype of the tensor\n",
        "ones.dtype"
      ],
      "metadata": {
        "colab": {
          "base_uri": "https://localhost:8080/"
        },
        "id": "ixJxJjtltzZy",
        "outputId": "ce4b2a07-c6cb-464b-efa4-d7a5fbf450b8"
      },
      "execution_count": null,
      "outputs": [
        {
          "output_type": "execute_result",
          "data": {
            "text/plain": [
              "torch.float32"
            ]
          },
          "metadata": {},
          "execution_count": 38
        }
      ]
    },
    {
      "cell_type": "markdown",
      "source": [
        "## Creating a range of tensors and tensors-like"
      ],
      "metadata": {
        "id": "pUXCNIMat7WM"
      }
    },
    {
      "cell_type": "code",
      "source": [
        "torch.range(0, 10)"
      ],
      "metadata": {
        "colab": {
          "base_uri": "https://localhost:8080/"
        },
        "id": "3EvTdgnCuVl9",
        "outputId": "3a1c7c73-c08f-4cec-de3b-055d47a730bb"
      },
      "execution_count": null,
      "outputs": [
        {
          "output_type": "stream",
          "name": "stderr",
          "text": [
            "<ipython-input-42-cf0dcdb325c8>:1: UserWarning: torch.range is deprecated and will be removed in a future release because its behavior is inconsistent with Python's range builtin. Instead, use torch.arange, which produces values in [start, end).\n",
            "  torch.range(0, 10)\n"
          ]
        },
        {
          "output_type": "execute_result",
          "data": {
            "text/plain": [
              "tensor([ 0.,  1.,  2.,  3.,  4.,  5.,  6.,  7.,  8.,  9., 10.])"
            ]
          },
          "metadata": {},
          "execution_count": 42
        }
      ]
    },
    {
      "cell_type": "code",
      "source": [
        "## it might get deprecated in the future so instead of range() we will be use arange()\n",
        "torch.arange(0, 10)"
      ],
      "metadata": {
        "colab": {
          "base_uri": "https://localhost:8080/"
        },
        "id": "g5IOF3MBuk6u",
        "outputId": "d9cd2748-e13d-4191-e153-dc1ed2e5148e"
      },
      "execution_count": null,
      "outputs": [
        {
          "output_type": "execute_result",
          "data": {
            "text/plain": [
              "tensor([0, 1, 2, 3, 4, 5, 6, 7, 8, 9])"
            ]
          },
          "metadata": {},
          "execution_count": 45
        }
      ]
    },
    {
      "cell_type": "code",
      "source": [
        "# here 1 is starting point and 11 is ending point and 2 is the step_size\n",
        "one_to_ten = torch.arange(1, 11, 2)\n",
        "one_to_ten"
      ],
      "metadata": {
        "colab": {
          "base_uri": "https://localhost:8080/"
        },
        "id": "XJr_xfVJu12s",
        "outputId": "6ad3a4ba-95bf-4630-edd3-8163faf582ac"
      },
      "execution_count": null,
      "outputs": [
        {
          "output_type": "execute_result",
          "data": {
            "text/plain": [
              "tensor([1, 3, 5, 7, 9])"
            ]
          },
          "metadata": {},
          "execution_count": 48
        }
      ]
    },
    {
      "cell_type": "code",
      "source": [
        "## creating tensors like\n",
        "## we don't want to specify the input size and we want to create the tensor\n",
        "## then we can use like function to create a tensors for example\n",
        "\n",
        "ten_zeros = torch.zeros_like(one_to_ten)\n",
        "ten_zeros\n"
      ],
      "metadata": {
        "colab": {
          "base_uri": "https://localhost:8080/"
        },
        "id": "9hmy7ToBvByr",
        "outputId": "3cbfaad0-181c-4bca-9f41-c21ea5a8a37a"
      },
      "execution_count": null,
      "outputs": [
        {
          "output_type": "execute_result",
          "data": {
            "text/plain": [
              "tensor([0, 0, 0, 0, 0])"
            ]
          },
          "metadata": {},
          "execution_count": 49
        }
      ]
    },
    {
      "cell_type": "code",
      "source": [
        "ten_zeros.shape, one_to_ten.shape"
      ],
      "metadata": {
        "colab": {
          "base_uri": "https://localhost:8080/"
        },
        "id": "8ihXvRf3vwbI",
        "outputId": "2cd2698a-1efb-474f-d77e-3f2a17689384"
      },
      "execution_count": null,
      "outputs": [
        {
          "output_type": "execute_result",
          "data": {
            "text/plain": [
              "(torch.Size([5]), torch.Size([5]))"
            ]
          },
          "metadata": {},
          "execution_count": 50
        }
      ]
    },
    {
      "cell_type": "code",
      "source": [
        "sample = torch.rand(size = (3,4))\n",
        "sample"
      ],
      "metadata": {
        "colab": {
          "base_uri": "https://localhost:8080/"
        },
        "id": "W0QJwGu8v4gh",
        "outputId": "e3cde45b-bb9d-403c-ce22-efbcd8295860"
      },
      "execution_count": null,
      "outputs": [
        {
          "output_type": "execute_result",
          "data": {
            "text/plain": [
              "tensor([[0.6401, 0.5797, 0.2972, 0.5900],\n",
              "        [0.4605, 0.0794, 0.2611, 0.5025],\n",
              "        [0.9252, 0.9375, 0.4089, 0.1466]])"
            ]
          },
          "metadata": {},
          "execution_count": 51
        }
      ]
    },
    {
      "cell_type": "code",
      "source": [
        "# we want to create a tesor which is like to above tensor (sample)\n",
        "# but we want all as zeros or ones without specify the size of the tensor\n",
        "# than we can use the {zeros_like, ones_like} function of the torch\n",
        "all_ones = torch.ones_like(sample)\n",
        "all_zeros = torch.zeros_like(sample)"
      ],
      "metadata": {
        "id": "DSJZ4u-GwbgI"
      },
      "execution_count": null,
      "outputs": []
    },
    {
      "cell_type": "code",
      "source": [
        "all_ones.shape , all_ones.ndim"
      ],
      "metadata": {
        "colab": {
          "base_uri": "https://localhost:8080/"
        },
        "id": "h0eFBpfExGJ9",
        "outputId": "3977fc0b-6400-47cc-b3a6-bd1fc7b68763"
      },
      "execution_count": null,
      "outputs": [
        {
          "output_type": "execute_result",
          "data": {
            "text/plain": [
              "(torch.Size([3, 4]), 2)"
            ]
          },
          "metadata": {},
          "execution_count": 53
        }
      ]
    },
    {
      "cell_type": "code",
      "source": [
        "all_zeros.shape, all_zeros.ndim"
      ],
      "metadata": {
        "colab": {
          "base_uri": "https://localhost:8080/"
        },
        "id": "9ckRd5sFxJ0-",
        "outputId": "0cf5c9fd-84fe-4fb3-d3d0-be508ef5efe7"
      },
      "execution_count": null,
      "outputs": [
        {
          "output_type": "execute_result",
          "data": {
            "text/plain": [
              "(torch.Size([3, 4]), 2)"
            ]
          },
          "metadata": {},
          "execution_count": 54
        }
      ]
    },
    {
      "cell_type": "code",
      "source": [
        "sample.shape, sample.ndim"
      ],
      "metadata": {
        "colab": {
          "base_uri": "https://localhost:8080/"
        },
        "id": "e_2soV6TxOjP",
        "outputId": "707b4c4b-8411-4013-fa19-9b95c889c753"
      },
      "execution_count": null,
      "outputs": [
        {
          "output_type": "execute_result",
          "data": {
            "text/plain": [
              "(torch.Size([3, 4]), 2)"
            ]
          },
          "metadata": {},
          "execution_count": 55
        }
      ]
    },
    {
      "cell_type": "markdown",
      "source": [
        "## tensors with different datatypes"
      ],
      "metadata": {
        "id": "s-fOu62mxRiA"
      }
    },
    {
      "cell_type": "code",
      "source": [
        "## till now we create the tensors of float32 dtypes\n",
        "## for exaple\n",
        "sample.dtype"
      ],
      "metadata": {
        "colab": {
          "base_uri": "https://localhost:8080/"
        },
        "id": "PrVK7yYAxbr2",
        "outputId": "5e1a159a-0de4-4b2a-a263-5b872d1b96ba"
      },
      "execution_count": null,
      "outputs": [
        {
          "output_type": "execute_result",
          "data": {
            "text/plain": [
              "torch.float32"
            ]
          },
          "metadata": {},
          "execution_count": 56
        }
      ]
    },
    {
      "cell_type": "code",
      "source": [
        "# Float_32_tensor\n",
        "float_32_tensor = torch.tensor([3.0, 4.0, 5.0], dtype = None)\n",
        "## make a tensor of the data type of int64 (we use torch.int64)\n",
        "int_64_tensor = torch.tensor([3.0, 4.0, 5.0], dtype = torch.int64)"
      ],
      "metadata": {
        "id": "VoA-ZQh-xoGx"
      },
      "execution_count": null,
      "outputs": []
    },
    {
      "cell_type": "code",
      "source": [
        "float_32_tensor.dtype"
      ],
      "metadata": {
        "colab": {
          "base_uri": "https://localhost:8080/"
        },
        "id": "n_P8Bn6hyLrm",
        "outputId": "920768c1-2a5e-4247-be65-738b3a15582b"
      },
      "execution_count": null,
      "outputs": [
        {
          "output_type": "execute_result",
          "data": {
            "text/plain": [
              "torch.float32"
            ]
          },
          "metadata": {},
          "execution_count": 72
        }
      ]
    },
    {
      "cell_type": "code",
      "source": [
        "int_64_tensor.dtype"
      ],
      "metadata": {
        "colab": {
          "base_uri": "https://localhost:8080/"
        },
        "id": "x7H65LXxyUsp",
        "outputId": "d5e3f35e-c94c-403e-9308-2a17383fd31f"
      },
      "execution_count": null,
      "outputs": [
        {
          "output_type": "execute_result",
          "data": {
            "text/plain": [
              "torch.int64"
            ]
          },
          "metadata": {},
          "execution_count": 76
        }
      ]
    },
    {
      "cell_type": "code",
      "source": [
        "# we can also create the tensor of the datatype of the int32, int16 etc..\n",
        "# by using torch.int16 or torch.int32\n",
        "int_16_tensor =  torch.tensor([3.0, 4.0, 5.0], dtype = torch.int16)\n",
        "int_32_tensor =  torch.tensor([3.0, 4.0, 9.0], dtype = torch.int32)"
      ],
      "metadata": {
        "id": "_s3-UVVLyX2_"
      },
      "execution_count": null,
      "outputs": []
    },
    {
      "cell_type": "code",
      "source": [
        "int_16_tensor.dtype , int_32_tensor.dtype"
      ],
      "metadata": {
        "colab": {
          "base_uri": "https://localhost:8080/"
        },
        "id": "OqJqhQ0Ey6FV",
        "outputId": "4544c6f5-89b4-40ed-99b0-73cb942d306c"
      },
      "execution_count": null,
      "outputs": [
        {
          "output_type": "execute_result",
          "data": {
            "text/plain": [
              "(torch.int16, torch.int32)"
            ]
          },
          "metadata": {},
          "execution_count": 78
        }
      ]
    },
    {
      "cell_type": "code",
      "source": [
        "## we also give two more parameters along with dtype (device, requires_grad)\n",
        "float_32_tensor =  torch.tensor([3.0, 6.0, 9.0],\n",
        "                                dtype = None, # what datatype is the tensor(e.g. float32, int16, int64)\n",
        "                                device = None, # What device is your tensor on\n",
        "                                requires_grad=False) # whether or not to track gradients with this tensors operations\n",
        "float_32_tensor"
      ],
      "metadata": {
        "colab": {
          "base_uri": "https://localhost:8080/"
        },
        "id": "Prhm6GWIzdbp",
        "outputId": "eae2e35c-f532-4fd5-8486-b27148249dd1"
      },
      "execution_count": null,
      "outputs": [
        {
          "output_type": "execute_result",
          "data": {
            "text/plain": [
              "tensor([3., 6., 9.])"
            ]
          },
          "metadata": {},
          "execution_count": 82
        }
      ]
    },
    {
      "cell_type": "markdown",
      "source": [
        "**Note:**Tensors datatypes is one of the 3 big errors you'll run into with Pytorch & deep learning:\n",
        "\n",
        "1. Tensors not right datatype\n",
        "2. Tensors not right shape\n",
        "3. Tensors not on the right device"
      ],
      "metadata": {
        "id": "vCB-g-xE06oX"
      }
    },
    {
      "cell_type": "code",
      "source": [
        "# now we want to conver the float32 tensor to float16 tensor\n",
        "# we can either use \"torch.float16\" or we can use \"torch.half\"\n",
        "float_16_tensor = float_32_tensor.type(torch.float16)\n",
        "float_16_tensor"
      ],
      "metadata": {
        "colab": {
          "base_uri": "https://localhost:8080/"
        },
        "id": "xxoE4HdY1Zkr",
        "outputId": "e8b21eae-78fb-4c1c-d622-7d3e217bc815"
      },
      "execution_count": null,
      "outputs": [
        {
          "output_type": "execute_result",
          "data": {
            "text/plain": [
              "tensor([3., 6., 9.], dtype=torch.float16)"
            ]
          },
          "metadata": {},
          "execution_count": 83
        }
      ]
    },
    {
      "cell_type": "code",
      "source": [
        "float_16_tensor * float_32_tensor"
      ],
      "metadata": {
        "colab": {
          "base_uri": "https://localhost:8080/"
        },
        "id": "A6RduFYD3wxy",
        "outputId": "e752ee9b-7e83-4b88-f754-1b9b450caf49"
      },
      "execution_count": null,
      "outputs": [
        {
          "output_type": "execute_result",
          "data": {
            "text/plain": [
              "tensor([ 9., 36., 81.])"
            ]
          },
          "metadata": {},
          "execution_count": 84
        }
      ]
    },
    {
      "cell_type": "code",
      "source": [
        "int_16_tensor * float_16_tensor"
      ],
      "metadata": {
        "colab": {
          "base_uri": "https://localhost:8080/"
        },
        "id": "iAzHbiUr4ElG",
        "outputId": "b5d2ece0-662f-4852-846f-790fa6acd1d4"
      },
      "execution_count": null,
      "outputs": [
        {
          "output_type": "execute_result",
          "data": {
            "text/plain": [
              "tensor([ 9., 24., 45.], dtype=torch.float16)"
            ]
          },
          "metadata": {},
          "execution_count": 85
        }
      ]
    },
    {
      "cell_type": "markdown",
      "source": [
        "# Getting information from tensors\n",
        "\n",
        "1. Tensors not right datatype - to do get datatype from a tensor, can use `tensor.dtype`\n",
        "2. Tensors not right shape - to get shape form a tensor, can use `tensor.shape`\n",
        "3. Tensors not on the right device - to get device from a tensor, can use `tensor.device`"
      ],
      "metadata": {
        "id": "yBOuIrml4gD1"
      }
    },
    {
      "cell_type": "code",
      "source": [
        "## Create a tensors\n",
        "\n",
        "some_tensor = torch.rand(size = (3,4), dtype = torch.float16, device = \"cpu\", requires_grad=False)\n",
        "some_tensor"
      ],
      "metadata": {
        "colab": {
          "base_uri": "https://localhost:8080/"
        },
        "id": "jDgnvw-y7Tr1",
        "outputId": "d1609e30-04ca-492f-8f27-3590ac477760"
      },
      "execution_count": null,
      "outputs": [
        {
          "output_type": "execute_result",
          "data": {
            "text/plain": [
              "tensor([[0.2007, 0.8154, 0.6719, 0.8491],\n",
              "        [0.0547, 0.7373, 0.2256, 0.6299],\n",
              "        [0.4204, 0.1377, 0.3330, 0.7861]], dtype=torch.float16)"
            ]
          },
          "metadata": {},
          "execution_count": 86
        }
      ]
    },
    {
      "cell_type": "code",
      "source": [
        "# Find out details about some tensor(this are tensors attributes)\n",
        "print(f\"Datatype of tensor:{some_tensor.dtype}\") # default datatype is float32\n",
        "print(f\"Our tensor is on {some_tensor.device}\") # By default it will be on cpu\n",
        "print(f\"Shape of our tensor is {some_tensor.shape}\") # here we can also use some_tensor.size() instead of the some_tensor.shape to find the size of the tensor"
      ],
      "metadata": {
        "colab": {
          "base_uri": "https://localhost:8080/"
        },
        "id": "j8UBmggW72bu",
        "outputId": "5c69269c-dfe0-4e40-995f-695c05956939"
      },
      "execution_count": null,
      "outputs": [
        {
          "output_type": "stream",
          "name": "stdout",
          "text": [
            "Datatype of tensor:torch.float16\n",
            "Our tensor is on cpu\n",
            "Shape of our tensor is torch.Size([3, 4])\n"
          ]
        }
      ]
    },
    {
      "cell_type": "markdown",
      "source": [
        "Code example:\n",
        "```python\n",
        "print(f\"shape of our tensor is {some_tensor.size()}\")\n",
        "\n",
        "```"
      ],
      "metadata": {
        "id": "aT-IUchxIzNO"
      }
    },
    {
      "cell_type": "markdown",
      "source": [
        "# Manipulating Tensors (tensor operations)\n",
        "\n",
        "Tensor operation include:\n",
        "\n",
        "* `Addition`\n",
        "* `Subtraction`\n",
        "* `Multiplication (element-wise)`\n",
        "* `Division`\n",
        "* `Matrix multiplication`\n"
      ],
      "metadata": {
        "id": "lhyuKlDy8SY6"
      }
    },
    {
      "cell_type": "code",
      "source": [
        "# 1. Addition\n",
        "tensor = torch.tensor([1, 2, 3], dtype = torch.int32)\n",
        "tensor + 10 # it will add 10 to all the values of tensor"
      ],
      "metadata": {
        "colab": {
          "base_uri": "https://localhost:8080/"
        },
        "id": "sARyWIQyFsr5",
        "outputId": "fba9dc0d-e992-4d07-aa51-a723bd65c737"
      },
      "execution_count": null,
      "outputs": [
        {
          "output_type": "execute_result",
          "data": {
            "text/plain": [
              "tensor([11, 12, 13], dtype=torch.int32)"
            ]
          },
          "metadata": {},
          "execution_count": 95
        }
      ]
    },
    {
      "cell_type": "markdown",
      "source": [
        "`NOTE`: for Addition we can also use torch.add()\n",
        "\n",
        "```python\n",
        "tensor = torch.add(tensor,10)\n",
        "```"
      ],
      "metadata": {
        "id": "as1WPXVZQlxh"
      }
    },
    {
      "cell_type": "code",
      "source": [
        "# 2. Multiplication element wise\n",
        "tensor * 10 # it will multiply 10 to all the values of tensor"
      ],
      "metadata": {
        "colab": {
          "base_uri": "https://localhost:8080/"
        },
        "id": "BF3AiuVmKbNE",
        "outputId": "39af73d3-a3ae-47a4-a33d-12aceb595854"
      },
      "execution_count": null,
      "outputs": [
        {
          "output_type": "execute_result",
          "data": {
            "text/plain": [
              "tensor([10, 20, 30], dtype=torch.int32)"
            ]
          },
          "metadata": {},
          "execution_count": 100
        }
      ]
    },
    {
      "cell_type": "markdown",
      "source": [
        "`NOTE`: for multiplication we can also use torch.mul()\n",
        "\n",
        "```python\n",
        "tensor = torch.mul(tensor,10)\n",
        "```"
      ],
      "metadata": {
        "id": "zJKwPDzdQGcB"
      }
    },
    {
      "cell_type": "code",
      "source": [
        "## 3.Subtract\n",
        "tensor - 10 # it will subtract 10 to all the values of tensor"
      ],
      "metadata": {
        "colab": {
          "base_uri": "https://localhost:8080/"
        },
        "id": "3ZM7YKYlKy04",
        "outputId": "5119a07c-2efe-4704-94d2-a1062f0de7a2"
      },
      "execution_count": null,
      "outputs": [
        {
          "output_type": "execute_result",
          "data": {
            "text/plain": [
              "tensor([-9, -8, -7], dtype=torch.int32)"
            ]
          },
          "metadata": {},
          "execution_count": 98
        }
      ]
    },
    {
      "cell_type": "code",
      "source": [
        "## 4. Divison\n",
        "tensor / 10 # it will divide all the values of tensor by 10"
      ],
      "metadata": {
        "colab": {
          "base_uri": "https://localhost:8080/"
        },
        "id": "AzKQ6PyRRAAm",
        "outputId": "e75cb94e-911e-4c66-b3bc-ec686b6dca51"
      },
      "execution_count": null,
      "outputs": [
        {
          "output_type": "execute_result",
          "data": {
            "text/plain": [
              "tensor([0.1000, 0.2000, 0.3000])"
            ]
          },
          "metadata": {},
          "execution_count": 99
        }
      ]
    },
    {
      "cell_type": "markdown",
      "source": [
        "### Matrix multiplication\n",
        "\n",
        "Two main ways of performing multiplication in neural networks and deep learing\n",
        "\n",
        "1. `Element-wise Multiplication`\n",
        "2. `Matrix Multiplication (dot product)`\n",
        "\n",
        "There are two main rules that performing matrix multiplication need to satisfy:\n",
        "\n",
        "1. The **inner dimensions** must match:\n",
        "\n",
        "* `(3, 2) @ (3, 2)` won't work\n",
        "* `(2, 3) @ (3, 2)` will work\n",
        "* `(3, 2) @ (2, 3)` will work\n",
        "\n",
        "2. The resulting matrix has the shape of the **outer dimensions**:\n",
        "\n",
        "* `(2, 3) @ (3, 2) -> (2, 2)`\n",
        "* `(3, 2) @ (2, 3) -> (3, 3)`"
      ],
      "metadata": {
        "id": "GkYopdUhRQcL"
      }
    },
    {
      "cell_type": "code",
      "source": [
        "## Element wise multiplication\n",
        "\n",
        "print(tensor, '*', tensor ,f'Equals to {tensor * tensor}')"
      ],
      "metadata": {
        "colab": {
          "base_uri": "https://localhost:8080/"
        },
        "id": "kzbpYXx-R70m",
        "outputId": "efa682fe-b593-450f-f3bf-cff4262da1e5"
      },
      "execution_count": null,
      "outputs": [
        {
          "output_type": "stream",
          "name": "stdout",
          "text": [
            "tensor([1, 2, 3], dtype=torch.int32) * tensor([1, 2, 3], dtype=torch.int32) Equals to tensor([1, 4, 9], dtype=torch.int32)\n"
          ]
        }
      ]
    },
    {
      "cell_type": "code",
      "source": [
        "# Matrix Multiplication\n",
        "torch.matmul(tensor, tensor)"
      ],
      "metadata": {
        "colab": {
          "base_uri": "https://localhost:8080/"
        },
        "id": "IpE5P_vzSnQk",
        "outputId": "76e2d757-4b50-4b5b-c244-cde66b383876"
      },
      "execution_count": null,
      "outputs": [
        {
          "output_type": "execute_result",
          "data": {
            "text/plain": [
              "tensor(14, dtype=torch.int32)"
            ]
          },
          "metadata": {},
          "execution_count": 120
        }
      ]
    },
    {
      "cell_type": "markdown",
      "source": [
        "## we can also use @ operator for the Matrix Multiplication\n",
        "\n",
        "```python\n",
        "tensor @ tensor\n",
        "```"
      ],
      "metadata": {
        "id": "jlfFvaGgV8u7"
      }
    },
    {
      "cell_type": "code",
      "source": [
        "## Implementing Matrix Multiplication code by hand\n",
        "%%time\n",
        "val = 0\n",
        "for i in range(len(tensor)):\n",
        "  val += tensor[i] * tensor[i]\n",
        "print(val)"
      ],
      "metadata": {
        "colab": {
          "base_uri": "https://localhost:8080/"
        },
        "id": "BoK_AjrZTAS1",
        "outputId": "f20caf81-c4a0-4fc4-f5da-495040513514"
      },
      "execution_count": null,
      "outputs": [
        {
          "output_type": "stream",
          "name": "stdout",
          "text": [
            "tensor(14, dtype=torch.int32)\n",
            "CPU times: user 1.18 ms, sys: 0 ns, total: 1.18 ms\n",
            "Wall time: 1.19 ms\n"
          ]
        }
      ]
    },
    {
      "cell_type": "code",
      "source": [
        "%%time\n",
        "torch.matmul(tensor, tensor)\n"
      ],
      "metadata": {
        "colab": {
          "base_uri": "https://localhost:8080/"
        },
        "id": "M1yFezeyUJuZ",
        "outputId": "6e4caada-6eb8-4449-8773-c54244b90b0a"
      },
      "execution_count": null,
      "outputs": [
        {
          "output_type": "stream",
          "name": "stdout",
          "text": [
            "CPU times: user 555 µs, sys: 0 ns, total: 555 µs\n",
            "Wall time: 405 µs\n"
          ]
        },
        {
          "output_type": "execute_result",
          "data": {
            "text/plain": [
              "tensor(14, dtype=torch.int32)"
            ]
          },
          "metadata": {},
          "execution_count": 114
        }
      ]
    },
    {
      "cell_type": "markdown",
      "source": [
        "## One of the most common error in deep learning : **Shape Errors**"
      ],
      "metadata": {
        "id": "lFEpFSgZUT_D"
      }
    },
    {
      "cell_type": "code",
      "source": [
        "## Shapes for matrix multiplication\n",
        "\n",
        "tensor_A = torch.tensor([[1, 2],\n",
        "                         [3, 4],\n",
        "                         [5, 6]])\n",
        "\n",
        "tensor_B = torch.tensor([[7, 10],\n",
        "                         [8, 11],\n",
        "                         [9, 12]])\n",
        "\n",
        "# torch.mm(tensor_A, tenson_B) this is the same as torch.matmul(tensor_A, tensor_B) (it's an alias for matmul)\n",
        "torch.matmul(tensor_A, tensor_B.reshape(2,3))"
      ],
      "metadata": {
        "colab": {
          "base_uri": "https://localhost:8080/"
        },
        "id": "x-Qr-EKeXjLs",
        "outputId": "e5b2caad-ca3f-4f55-ddba-821ebcd6dedd"
      },
      "execution_count": null,
      "outputs": [
        {
          "output_type": "execute_result",
          "data": {
            "text/plain": [
              "tensor([[ 29,  28,  32],\n",
              "        [ 65,  66,  72],\n",
              "        [101, 104, 112]])"
            ]
          },
          "metadata": {},
          "execution_count": 123
        }
      ]
    },
    {
      "cell_type": "markdown",
      "source": [
        "### To fix our tensor shape issues, we can manipulate the shape of one of our tensors using a **transpose.**\n",
        "A Transpose switches the axes or dimensions of a given tensor:"
      ],
      "metadata": {
        "id": "cOSsOxZpY6aY"
      }
    },
    {
      "cell_type": "code",
      "source": [
        "tensor_A = torch.rand(2, 3)\n",
        "tensor_B = torch.rand(2, 3)"
      ],
      "metadata": {
        "id": "h14f4XJfdJ09"
      },
      "execution_count": null,
      "outputs": []
    },
    {
      "cell_type": "code",
      "source": [
        "# torch.matmul(tensor_A, tensor_B) # This will give us a Shape mismatch or shapes cannot be multiplied error"
      ],
      "metadata": {
        "id": "RZpW1k-9dcj7"
      },
      "execution_count": null,
      "outputs": []
    },
    {
      "cell_type": "code",
      "source": [
        "tensor_B"
      ],
      "metadata": {
        "colab": {
          "base_uri": "https://localhost:8080/"
        },
        "id": "qnf_MMmHdsLA",
        "outputId": "ea491ea4-f2a9-4466-a2ce-ac224b20c308"
      },
      "execution_count": null,
      "outputs": [
        {
          "output_type": "execute_result",
          "data": {
            "text/plain": [
              "tensor([[0.6598, 0.6469, 0.5825],\n",
              "        [0.7717, 0.7144, 0.7498]])"
            ]
          },
          "metadata": {},
          "execution_count": 127
        }
      ]
    },
    {
      "cell_type": "code",
      "source": [
        "tensor_B.T"
      ],
      "metadata": {
        "colab": {
          "base_uri": "https://localhost:8080/"
        },
        "id": "VP8Jd8J-dwBY",
        "outputId": "83b0e48b-f518-4fe5-8e71-43a07b154a14"
      },
      "execution_count": null,
      "outputs": [
        {
          "output_type": "execute_result",
          "data": {
            "text/plain": [
              "tensor([[0.6598, 0.7717],\n",
              "        [0.6469, 0.7144],\n",
              "        [0.5825, 0.7498]])"
            ]
          },
          "metadata": {},
          "execution_count": 128
        }
      ]
    },
    {
      "cell_type": "code",
      "source": [
        "torch.matmul(tensor_A, tensor_B.T)"
      ],
      "metadata": {
        "colab": {
          "base_uri": "https://localhost:8080/"
        },
        "id": "emxftfeld0Hs",
        "outputId": "cb3fe36d-a669-479f-b771-df189e34a5fe"
      },
      "execution_count": null,
      "outputs": [
        {
          "output_type": "execute_result",
          "data": {
            "text/plain": [
              "tensor([[1.2547, 1.4856],\n",
              "        [0.8693, 1.0341]])"
            ]
          },
          "metadata": {},
          "execution_count": 129
        }
      ]
    },
    {
      "cell_type": "code",
      "source": [
        "# The Matrix Multiplication operation works when tensor_B is Transposed\n",
        "print(f\"Original shapes: tensor_A = {tensor_A.shape}, tensor_B = {tensor_B.shape}\")\n",
        "print(f\"New shapes: tensor_A = {tensor_A.shape} (same shape as above), tensor_B.T = {tensor_B.T.shape}\")\n",
        "print(f\"Multiplying: {tensor_A.shape} @ {tensor_B.T.shape} <- inner dimensions must match\")\n",
        "print(\"Output:\\n\")\n",
        "output = torch.matmul(tensor_A, tensor_B.T)\n",
        "print(output)\n",
        "print(f\"\\nOutput shape: {output.shape}\")"
      ],
      "metadata": {
        "colab": {
          "base_uri": "https://localhost:8080/"
        },
        "id": "aEUznDcwd6QS",
        "outputId": "85484eb0-6b76-4f3c-c51a-218f849474f5"
      },
      "execution_count": null,
      "outputs": [
        {
          "output_type": "stream",
          "name": "stdout",
          "text": [
            "Original shapes: tensor_A = torch.Size([2, 3]), tensor_B = torch.Size([2, 3])\n",
            "New shapes: tensor_A = torch.Size([2, 3]) (same shape as above), tensor_B.T = torch.Size([3, 2])\n",
            "Multiplying: torch.Size([2, 3]) @ torch.Size([3, 2]) <- inner dimensions must match\n",
            "Output:\n",
            "\n",
            "tensor([[1.2547, 1.4856],\n",
            "        [0.8693, 1.0341]])\n",
            "\n",
            "Output shape: torch.Size([2, 2])\n"
          ]
        }
      ]
    },
    {
      "cell_type": "markdown",
      "source": [
        "## Finding the min, max, mean, sum, etc (tensor aggregation)"
      ],
      "metadata": {
        "id": "51cu0b6Qje7g"
      }
    },
    {
      "cell_type": "code",
      "source": [
        "x = torch.arange(1, 100, 10)\n",
        "x"
      ],
      "metadata": {
        "colab": {
          "base_uri": "https://localhost:8080/"
        },
        "id": "8TGnU3Aeu12K",
        "outputId": "deeb7387-746f-4c79-8831-ed21888702b7"
      },
      "execution_count": null,
      "outputs": [
        {
          "output_type": "execute_result",
          "data": {
            "text/plain": [
              "tensor([ 1, 11, 21, 31, 41, 51, 61, 71, 81, 91])"
            ]
          },
          "metadata": {},
          "execution_count": 134
        }
      ]
    },
    {
      "cell_type": "code",
      "source": [
        "x.dtype"
      ],
      "metadata": {
        "colab": {
          "base_uri": "https://localhost:8080/"
        },
        "id": "1vH0maL0wm-C",
        "outputId": "52241e58-0cbb-4ef3-b73a-d721af8e035a"
      },
      "execution_count": null,
      "outputs": [
        {
          "output_type": "execute_result",
          "data": {
            "text/plain": [
              "torch.int64"
            ]
          },
          "metadata": {},
          "execution_count": 135
        }
      ]
    },
    {
      "cell_type": "code",
      "source": [
        "# to find min value\n",
        "print(torch.min(x))\n",
        "print(x.min())\n",
        "# we can use either of any one"
      ],
      "metadata": {
        "colab": {
          "base_uri": "https://localhost:8080/"
        },
        "id": "kZsSr9qowo6P",
        "outputId": "ecf22e77-e189-4bb3-c7d9-95d06e762196"
      },
      "execution_count": null,
      "outputs": [
        {
          "output_type": "stream",
          "name": "stdout",
          "text": [
            "tensor(1)\n",
            "tensor(1)\n"
          ]
        }
      ]
    },
    {
      "cell_type": "code",
      "source": [
        "# to find max value\n",
        "print(torch.max(x))\n",
        "print(x.max())\n",
        "# we can use either of any one"
      ],
      "metadata": {
        "colab": {
          "base_uri": "https://localhost:8080/"
        },
        "id": "5fADsgJAxoE6",
        "outputId": "67c4015f-fc1b-4129-f167-3c384bc29df1"
      },
      "execution_count": null,
      "outputs": [
        {
          "output_type": "stream",
          "name": "stdout",
          "text": [
            "tensor(91)\n",
            "tensor(91)\n"
          ]
        }
      ]
    },
    {
      "cell_type": "code",
      "source": [
        "# to find mean value\n",
        "print(torch.mean(x.type(torch.float32)))\n",
        "print(x.type(torch.float32).mean())\n",
        "# we can use either of any one to find mean value of the given tensor\n",
        "# Note: torch.mean() function  requires a tensor of float32 datatype to work"
      ],
      "metadata": {
        "colab": {
          "base_uri": "https://localhost:8080/"
        },
        "id": "e33DmaoyzGm3",
        "outputId": "f7784611-1390-4118-c310-b14bc6a73196"
      },
      "execution_count": null,
      "outputs": [
        {
          "output_type": "stream",
          "name": "stdout",
          "text": [
            "tensor(46.)\n",
            "tensor(46.)\n"
          ]
        }
      ]
    },
    {
      "cell_type": "code",
      "source": [
        "# to find sum of the given tensor we can use\n",
        "# either\n",
        "print(torch.sum(x))\n",
        "# or\n",
        "print(x.sum())"
      ],
      "metadata": {
        "colab": {
          "base_uri": "https://localhost:8080/"
        },
        "id": "_zcBaYztztsL",
        "outputId": "696982ee-c256-4390-a855-6b21add4115a"
      },
      "execution_count": null,
      "outputs": [
        {
          "output_type": "stream",
          "name": "stdout",
          "text": [
            "tensor(460)\n",
            "tensor(460)\n"
          ]
        }
      ]
    },
    {
      "cell_type": "markdown",
      "source": [
        "## write a code to find positional min, max of the given tensor"
      ],
      "metadata": {
        "id": "_GjhiFll0AAh"
      }
    },
    {
      "cell_type": "code",
      "source": [
        "# we can use argmax or argmin to find positional min, max of the given tensor\n",
        "print(f\"Minimum value is at the index: {torch.argmin(x)} in the given tensor\")\n",
        "print(f\"Maximum value is at the index: {torch.argmax(x)} in the given tensor\")"
      ],
      "metadata": {
        "colab": {
          "base_uri": "https://localhost:8080/"
        },
        "id": "g-LbBUjg0aTv",
        "outputId": "e64e2f53-de09-4ff7-8708-fdec8d295623"
      },
      "execution_count": null,
      "outputs": [
        {
          "output_type": "stream",
          "name": "stdout",
          "text": [
            "Minimum value is at the index: 0 in the given tensor\n",
            "Maximum value is at the index: 9 in the given tensor\n"
          ]
        }
      ]
    },
    {
      "cell_type": "code",
      "source": [
        "print(f\"we have minimum value {x[torch.argmin(x)]} at the index of {torch.argmin(x)}\")\n",
        "print(f\"we have maximum value {x[torch.argmax(x)]} at the index of {torch.argmax(x)}\")"
      ],
      "metadata": {
        "colab": {
          "base_uri": "https://localhost:8080/"
        },
        "id": "sVrI0uh50_ot",
        "outputId": "d668108d-142d-4435-a39f-3ca169a7d27c"
      },
      "execution_count": null,
      "outputs": [
        {
          "output_type": "stream",
          "name": "stdout",
          "text": [
            "we have minimum value 1 at the index of 0\n",
            "we have maximum value 91 at the index of 9\n"
          ]
        }
      ]
    },
    {
      "cell_type": "markdown",
      "source": [],
      "metadata": {
        "id": "c3Yhc4iS3F-7"
      }
    },
    {
      "cell_type": "markdown",
      "source": [
        "## Now We will try do Reshaping, stacking, squeezing and unsqueezing of the given tensor\n",
        "\n",
        "* `Reshaping` - reshape an input tensor to a defined shape\n",
        "\n",
        "* `View` - Return a view of an input tensor of certain shape but keep the same memory as the original tensor\n",
        "\n",
        "* `Stacking` - combine multiple tensors on top of each other (vstack) or side by side (hstack)\n",
        "\n",
        "* `Squeeze` - removes all `1` dimensions from a tensor\n",
        "\n",
        "* `Unsqueeze` - add a `1` dimension to a target tensor\n",
        "\n",
        "* `Permute` - Return a view of the input with dimensions permuted (swapped) in a certain way"
      ],
      "metadata": {
        "id": "Xe3qMVEV2cIx"
      }
    },
    {
      "cell_type": "code",
      "source": [
        "# Creating a tensor\n",
        "import torch\n",
        "tensor_x = torch.arange(1. , 10.)\n",
        "tensor_x"
      ],
      "metadata": {
        "colab": {
          "base_uri": "https://localhost:8080/"
        },
        "id": "BzWwV4nb3FiK",
        "outputId": "f54be26c-d5e7-42e1-85e4-306572e5aa04"
      },
      "execution_count": null,
      "outputs": [
        {
          "output_type": "execute_result",
          "data": {
            "text/plain": [
              "tensor([1., 2., 3., 4., 5., 6., 7., 8., 9.])"
            ]
          },
          "metadata": {},
          "execution_count": 147
        }
      ]
    },
    {
      "cell_type": "markdown",
      "source": [
        "### 1. Reshaping"
      ],
      "metadata": {
        "id": "9lLgJ_KC9d5L"
      }
    },
    {
      "cell_type": "code",
      "source": [
        "print(f\"Tensor shape is {tensor_x.shape}\")"
      ],
      "metadata": {
        "colab": {
          "base_uri": "https://localhost:8080/"
        },
        "id": "8asF09DS5Xq3",
        "outputId": "23f7911b-6418-46b0-e74c-d1904b623136"
      },
      "execution_count": null,
      "outputs": [
        {
          "output_type": "stream",
          "name": "stdout",
          "text": [
            "Tensor shape is torch.Size([9])\n"
          ]
        }
      ]
    },
    {
      "cell_type": "code",
      "source": [
        "# Add an extra dimension(by using Reshape)\n",
        "tensor_y = tensor_x.reshape(1,9)\n",
        "tensor_y"
      ],
      "metadata": {
        "colab": {
          "base_uri": "https://localhost:8080/"
        },
        "id": "CXVJohC15gRY",
        "outputId": "e0493ded-d339-45eb-bd35-de0de3fd7714"
      },
      "execution_count": null,
      "outputs": [
        {
          "output_type": "execute_result",
          "data": {
            "text/plain": [
              "tensor([[1., 2., 3., 4., 5., 6., 7., 8., 9.]])"
            ]
          },
          "metadata": {},
          "execution_count": 149
        }
      ]
    },
    {
      "cell_type": "code",
      "source": [
        "print(f\"Shape of the tensor before Reshaping is : {tensor_x.shape}\")\n",
        "print(f\"Shape of the tensor after Reshaping is: {tensor_y.shape}\")"
      ],
      "metadata": {
        "colab": {
          "base_uri": "https://localhost:8080/"
        },
        "id": "3pD-v-Yp51es",
        "outputId": "c951e312-9219-4efd-e69f-248c5b19ffce"
      },
      "execution_count": null,
      "outputs": [
        {
          "output_type": "stream",
          "name": "stdout",
          "text": [
            "Shape of the tensor before Reshaping is : torch.Size([9])\n",
            "Shape of the tensor after Reshaping is: torch.Size([1, 9])\n"
          ]
        }
      ]
    },
    {
      "cell_type": "code",
      "source": [
        "# what if i try reshape(3,-1)\n",
        "tensor_z = tensor_x.reshape(3,-1)\n",
        "tensor_z"
      ],
      "metadata": {
        "colab": {
          "base_uri": "https://localhost:8080/"
        },
        "id": "NUuygE816HSe",
        "outputId": "f57be914-005a-40ec-b9f8-36c79f967eef"
      },
      "execution_count": null,
      "outputs": [
        {
          "output_type": "execute_result",
          "data": {
            "text/plain": [
              "tensor([[1., 2., 3.],\n",
              "        [4., 5., 6.],\n",
              "        [7., 8., 9.]])"
            ]
          },
          "metadata": {},
          "execution_count": 152
        }
      ]
    },
    {
      "cell_type": "code",
      "source": [
        "print(f\"Shape of the tensor before Reshaping is : {tensor_x.shape}\")\n",
        "print(f\"shape of the tensor after Reshaping(3, -1) is :{tensor_x.reshape(3, -1).shape}\")"
      ],
      "metadata": {
        "colab": {
          "base_uri": "https://localhost:8080/"
        },
        "id": "ZuMosH6g6xun",
        "outputId": "1bc1b02e-69fa-4ec5-92b2-10c9a4558c0e"
      },
      "execution_count": null,
      "outputs": [
        {
          "output_type": "stream",
          "name": "stdout",
          "text": [
            "Shape of the tensor before Reshaping is : torch.Size([9])\n",
            "shape of the tensor after Reshaping(3, -1) is :torch.Size([3, 3])\n"
          ]
        }
      ]
    },
    {
      "cell_type": "markdown",
      "source": [
        "### 2. View"
      ],
      "metadata": {
        "id": "jp_agkr-7PwY"
      }
    },
    {
      "cell_type": "code",
      "source": [
        "# change the view\n",
        "tensor_view = tensor_x.view(1,9)\n",
        "tensor_view"
      ],
      "metadata": {
        "colab": {
          "base_uri": "https://localhost:8080/"
        },
        "id": "IdvkPfJR-BJK",
        "outputId": "c70543bb-a891-42ee-f669-d0ed14a2f097"
      },
      "execution_count": null,
      "outputs": [
        {
          "output_type": "execute_result",
          "data": {
            "text/plain": [
              "tensor([[1., 2., 3., 4., 5., 6., 7., 8., 9.]])"
            ]
          },
          "metadata": {},
          "execution_count": 154
        }
      ]
    },
    {
      "cell_type": "code",
      "source": [
        "### Note : Changing tensor_view changes tensore_x (because a view of a tensor shares the same memory as the original input)\n",
        "print(f\"Tensor before do some changes into tensor_view : {tensor_x}\")\n",
        "tensor_view[:,0] = 5.0\n",
        "print(f\"Tensor after do some changes intp tensor_view : {tensor_x}\")"
      ],
      "metadata": {
        "colab": {
          "base_uri": "https://localhost:8080/"
        },
        "id": "bn81TaiC-RH1",
        "outputId": "11f37b5b-0a6f-4f00-c91f-0e73ab2e4626"
      },
      "execution_count": null,
      "outputs": [
        {
          "output_type": "stream",
          "name": "stdout",
          "text": [
            "Tensor before do some changes into tensor_view : tensor([1., 2., 3., 4., 5., 6., 7., 8., 9.])\n",
            "Tensor after do some changes intp tensor_view : tensor([5., 2., 3., 4., 5., 6., 7., 8., 9.])\n"
          ]
        }
      ]
    },
    {
      "cell_type": "markdown",
      "source": [
        "### 3.Stacking\n"
      ],
      "metadata": {
        "id": "6_SUYDo2_Sap"
      }
    },
    {
      "cell_type": "code",
      "source": [
        "# Stack tensors on top of each other\n",
        "x_stacked_h = torch.stack([tensor_x,tensor_x,tensor_x,tensor_x], dim = 0) # dim = 0 done the horizontal stacking\n",
        "x_stacked_h"
      ],
      "metadata": {
        "colab": {
          "base_uri": "https://localhost:8080/"
        },
        "id": "6FWJahHh_rGh",
        "outputId": "7d46cc34-9017-4a8e-ba24-fd63bb7574ed"
      },
      "execution_count": null,
      "outputs": [
        {
          "output_type": "execute_result",
          "data": {
            "text/plain": [
              "tensor([[5., 2., 3., 4., 5., 6., 7., 8., 9.],\n",
              "        [5., 2., 3., 4., 5., 6., 7., 8., 9.],\n",
              "        [5., 2., 3., 4., 5., 6., 7., 8., 9.],\n",
              "        [5., 2., 3., 4., 5., 6., 7., 8., 9.]])"
            ]
          },
          "metadata": {},
          "execution_count": 162
        }
      ]
    },
    {
      "cell_type": "code",
      "source": [
        "x_stacked_v = torch.stack([tensor_x,tensor_x,tensor_x,tensor_x], dim = 1)\n",
        "x_stacked_v"
      ],
      "metadata": {
        "colab": {
          "base_uri": "https://localhost:8080/"
        },
        "id": "umP0f9f_BGAK",
        "outputId": "5cd173fc-b600-438e-9b6e-5584b76e9beb"
      },
      "execution_count": null,
      "outputs": [
        {
          "output_type": "execute_result",
          "data": {
            "text/plain": [
              "tensor([[5., 5., 5., 5.],\n",
              "        [2., 2., 2., 2.],\n",
              "        [3., 3., 3., 3.],\n",
              "        [4., 4., 4., 4.],\n",
              "        [5., 5., 5., 5.],\n",
              "        [6., 6., 6., 6.],\n",
              "        [7., 7., 7., 7.],\n",
              "        [8., 8., 8., 8.],\n",
              "        [9., 9., 9., 9.]])"
            ]
          },
          "metadata": {},
          "execution_count": 163
        }
      ]
    },
    {
      "cell_type": "code",
      "source": [
        "x_stacked_h.shape"
      ],
      "metadata": {
        "colab": {
          "base_uri": "https://localhost:8080/"
        },
        "id": "FcvX8Nm6Bt5e",
        "outputId": "93d2daae-ba2a-4d71-eaf8-21f199c6cc95"
      },
      "execution_count": null,
      "outputs": [
        {
          "output_type": "execute_result",
          "data": {
            "text/plain": [
              "torch.Size([4, 9])"
            ]
          },
          "metadata": {},
          "execution_count": 164
        }
      ]
    },
    {
      "cell_type": "code",
      "source": [
        "x_stacked_v.shape"
      ],
      "metadata": {
        "colab": {
          "base_uri": "https://localhost:8080/"
        },
        "id": "ZFTjQLwPB1WX",
        "outputId": "fe6b9bdd-5fef-4da4-d015-8bd086ae68c3"
      },
      "execution_count": null,
      "outputs": [
        {
          "output_type": "execute_result",
          "data": {
            "text/plain": [
              "torch.Size([9, 4])"
            ]
          },
          "metadata": {},
          "execution_count": 165
        }
      ]
    },
    {
      "cell_type": "markdown",
      "source": [
        "### 4. Squeeze - Removes all single dimensions from a target tensor"
      ],
      "metadata": {
        "id": "ZV7fKbnUB4Z7"
      }
    },
    {
      "cell_type": "code",
      "source": [
        "import torch\n",
        "import numpy as np\n",
        "import pandas as pd\n",
        "from matplotlib import pyplot as plt"
      ],
      "metadata": {
        "id": "PGMnC85fCKLG"
      },
      "execution_count": 1,
      "outputs": []
    },
    {
      "cell_type": "code",
      "source": [
        "x = torch.zeros(2, 1, 2, 1, 2)\n",
        "x"
      ],
      "metadata": {
        "colab": {
          "base_uri": "https://localhost:8080/"
        },
        "id": "dUPzw6mLhQxc",
        "outputId": "a4ffd598-4ed3-49e4-a371-1c3bf9d6eba6"
      },
      "execution_count": 2,
      "outputs": [
        {
          "output_type": "execute_result",
          "data": {
            "text/plain": [
              "tensor([[[[[0., 0.]],\n",
              "\n",
              "          [[0., 0.]]]],\n",
              "\n",
              "\n",
              "\n",
              "        [[[[0., 0.]],\n",
              "\n",
              "          [[0., 0.]]]]])"
            ]
          },
          "metadata": {},
          "execution_count": 2
        }
      ]
    },
    {
      "cell_type": "code",
      "source": [
        "print(f\"shape of the x is : {x.shape}\")"
      ],
      "metadata": {
        "colab": {
          "base_uri": "https://localhost:8080/"
        },
        "id": "tLhKr9FqhYHl",
        "outputId": "c68172da-816b-4ab0-cef7-0b4292c73f3d"
      },
      "execution_count": 3,
      "outputs": [
        {
          "output_type": "stream",
          "name": "stdout",
          "text": [
            "shape of the x is : torch.Size([2, 1, 2, 1, 2])\n"
          ]
        }
      ]
    },
    {
      "cell_type": "code",
      "source": [
        "# now lets squeeze the x and see the output\n",
        "y = torch.squeeze(x)\n",
        "y"
      ],
      "metadata": {
        "colab": {
          "base_uri": "https://localhost:8080/"
        },
        "id": "bSZ9NxpRhsW7",
        "outputId": "a42128d2-cb6a-490a-c46c-e94c56c3099a"
      },
      "execution_count": 4,
      "outputs": [
        {
          "output_type": "execute_result",
          "data": {
            "text/plain": [
              "tensor([[[0., 0.],\n",
              "         [0., 0.]],\n",
              "\n",
              "        [[0., 0.],\n",
              "         [0., 0.]]])"
            ]
          },
          "metadata": {},
          "execution_count": 4
        }
      ]
    },
    {
      "cell_type": "code",
      "source": [
        "# if we see the shape of the y\n",
        "y.shape"
      ],
      "metadata": {
        "colab": {
          "base_uri": "https://localhost:8080/"
        },
        "id": "7k9k4spEj5Qh",
        "outputId": "8c34ed31-3109-4aef-c49e-71305f0c0409"
      },
      "execution_count": 5,
      "outputs": [
        {
          "output_type": "execute_result",
          "data": {
            "text/plain": [
              "torch.Size([2, 2, 2])"
            ]
          },
          "metadata": {},
          "execution_count": 5
        }
      ]
    },
    {
      "cell_type": "code",
      "source": [
        "# if we apply squeeze on a vector than it will remove all 1 dimension from the tensor\n",
        "print(f\"Shape of a tensor before squeeze: {x.shape}\")\n",
        "print(f\"Shape of a tensor after squeeze: {y.shape}\")"
      ],
      "metadata": {
        "colab": {
          "base_uri": "https://localhost:8080/"
        },
        "id": "MlZ0n_Vyj9H-",
        "outputId": "9f3c488a-127f-48ee-f9b3-63d12f6ebd72"
      },
      "execution_count": 8,
      "outputs": [
        {
          "output_type": "stream",
          "name": "stdout",
          "text": [
            "Shape of a tensor before squeeze: torch.Size([2, 1, 2, 1, 2])\n",
            "Shape of a tensor after squeeze: torch.Size([2, 2, 2])\n"
          ]
        }
      ]
    },
    {
      "cell_type": "code",
      "source": [
        "# if we want to remove a particular 1 dimension from the tensor than we can provide the which 1 dimension we want to reamove\n",
        "# for example in x we have (2, 1, 2, 1, 2) dimension and the the layer or dimension is (0, 1, 2, 3, 4) it means we have 1 on dim 1 and 3\n",
        "z = torch.squeeze(x, 1)\n",
        "z.shape"
      ],
      "metadata": {
        "colab": {
          "base_uri": "https://localhost:8080/"
        },
        "id": "kmOIiNaykLf0",
        "outputId": "ba65e434-7773-482c-9672-c2f6378a8b70"
      },
      "execution_count": 14,
      "outputs": [
        {
          "output_type": "execute_result",
          "data": {
            "text/plain": [
              "torch.Size([2, 2, 1, 2])"
            ]
          },
          "metadata": {},
          "execution_count": 14
        }
      ]
    },
    {
      "cell_type": "code",
      "source": [
        "z = torch.squeeze(x, 0)\n",
        "z.shape"
      ],
      "metadata": {
        "colab": {
          "base_uri": "https://localhost:8080/"
        },
        "id": "7CrG-h63km-F",
        "outputId": "3bffd1ab-ef5a-4cdd-b426-0cb58067242b"
      },
      "execution_count": 13,
      "outputs": [
        {
          "output_type": "execute_result",
          "data": {
            "text/plain": [
              "torch.Size([2, 1, 2, 1, 2])"
            ]
          },
          "metadata": {},
          "execution_count": 13
        }
      ]
    },
    {
      "cell_type": "markdown",
      "source": [
        "### Unsqueeze - adds a single dimension to a target tensor at a specific dim(dimension)"
      ],
      "metadata": {
        "id": "XQw_wUJllkEq"
      }
    },
    {
      "cell_type": "code",
      "source": [
        "tensor_sample = torch.rand(2,4)\n",
        "tensor_sample.shape"
      ],
      "metadata": {
        "colab": {
          "base_uri": "https://localhost:8080/"
        },
        "id": "BVWQtSJfm16c",
        "outputId": "82bd0473-4179-4f2d-e3b4-3625a99fb4cd"
      },
      "execution_count": 16,
      "outputs": [
        {
          "output_type": "execute_result",
          "data": {
            "text/plain": [
              "torch.Size([2, 4])"
            ]
          },
          "metadata": {},
          "execution_count": 16
        }
      ]
    },
    {
      "cell_type": "code",
      "source": [
        "tensor_sample.unsqueeze(0).shape"
      ],
      "metadata": {
        "colab": {
          "base_uri": "https://localhost:8080/"
        },
        "id": "OgYcmAgXoxMy",
        "outputId": "4f917703-6ca3-495d-da11-4ed9bb55b583"
      },
      "execution_count": 20,
      "outputs": [
        {
          "output_type": "execute_result",
          "data": {
            "text/plain": [
              "torch.Size([1, 2, 4])"
            ]
          },
          "metadata": {},
          "execution_count": 20
        }
      ]
    },
    {
      "cell_type": "code",
      "source": [
        "print(f\"Tensor before unsqeeze : {tensor_sample}\")\n",
        "print(f\"Tensor's shaep before unsqueeze : {tensor_sample.shape}\")\n",
        "print(f\"Tensor after unsqueeze at a dimension 0 : {tensor_sample.unsqueeze(dim = 0)}\")\n",
        "print(f\"Tensor's shape after unsqueeze at dimension 0 : {tensor_sample.unsqueeze(dim = 0).shape}\")"
      ],
      "metadata": {
        "colab": {
          "base_uri": "https://localhost:8080/"
        },
        "id": "11mWghaDo7xE",
        "outputId": "d7c56e98-dd2e-4b03-d44a-01967de2b6a1"
      },
      "execution_count": 25,
      "outputs": [
        {
          "output_type": "stream",
          "name": "stdout",
          "text": [
            "Tensor before unsqeeze : tensor([[0.2081, 0.0702, 0.0643, 0.8102],\n",
            "        [0.6909, 0.9236, 0.4933, 0.0830]])\n",
            "Tensor's shaep before unsqueeze : torch.Size([2, 4])\n",
            "Tensor after unsqueeze at a dimension 0 : tensor([[[0.2081, 0.0702, 0.0643, 0.8102],\n",
            "         [0.6909, 0.9236, 0.4933, 0.0830]]])\n",
            "Tensor's shape after unsqueeze at dimension 0 : torch.Size([1, 2, 4])\n"
          ]
        }
      ]
    },
    {
      "cell_type": "code",
      "source": [
        "# if we want to add single dimension at dimension 1\n",
        "tensor_sample.unsqueeze(dim = 1)"
      ],
      "metadata": {
        "colab": {
          "base_uri": "https://localhost:8080/"
        },
        "id": "CoeSfm5dp0Ay",
        "outputId": "e6b9b188-e02e-456a-9257-f398c1b26238"
      },
      "execution_count": 26,
      "outputs": [
        {
          "output_type": "execute_result",
          "data": {
            "text/plain": [
              "tensor([[[0.2081, 0.0702, 0.0643, 0.8102]],\n",
              "\n",
              "        [[0.6909, 0.9236, 0.4933, 0.0830]]])"
            ]
          },
          "metadata": {},
          "execution_count": 26
        }
      ]
    },
    {
      "cell_type": "code",
      "source": [
        "tensor_sample.unsqueeze(dim = 1).shape ## This will add a single dimension at dimension 1"
      ],
      "metadata": {
        "colab": {
          "base_uri": "https://localhost:8080/"
        },
        "id": "bqv0pMuEqMG4",
        "outputId": "abeb25d9-fd33-4846-9346-08886fd48e2e"
      },
      "execution_count": 27,
      "outputs": [
        {
          "output_type": "execute_result",
          "data": {
            "text/plain": [
              "torch.Size([2, 1, 4])"
            ]
          },
          "metadata": {},
          "execution_count": 27
        }
      ]
    },
    {
      "cell_type": "code",
      "source": [
        "sample_tensor = torch.arange(1, 11)\n",
        "sample_tensor"
      ],
      "metadata": {
        "colab": {
          "base_uri": "https://localhost:8080/"
        },
        "id": "BR4ik8NuqSoz",
        "outputId": "73b04577-1770-4406-d63b-a63fa0eeb91e"
      },
      "execution_count": 28,
      "outputs": [
        {
          "output_type": "execute_result",
          "data": {
            "text/plain": [
              "tensor([ 1,  2,  3,  4,  5,  6,  7,  8,  9, 10])"
            ]
          },
          "metadata": {},
          "execution_count": 28
        }
      ]
    },
    {
      "cell_type": "code",
      "source": [
        "sample_tensor.shape"
      ],
      "metadata": {
        "colab": {
          "base_uri": "https://localhost:8080/"
        },
        "id": "4udxFn2PwtDR",
        "outputId": "0f854f58-1b10-476a-97ac-2a5cf13cb8d3"
      },
      "execution_count": 29,
      "outputs": [
        {
          "output_type": "execute_result",
          "data": {
            "text/plain": [
              "torch.Size([10])"
            ]
          },
          "metadata": {},
          "execution_count": 29
        }
      ]
    },
    {
      "cell_type": "code",
      "source": [
        "sample_tensor.unsqueeze(dim = 1)"
      ],
      "metadata": {
        "colab": {
          "base_uri": "https://localhost:8080/"
        },
        "id": "LW9BRQZjwvL9",
        "outputId": "ddeb690f-770f-4b23-97eb-873536f54528"
      },
      "execution_count": 31,
      "outputs": [
        {
          "output_type": "execute_result",
          "data": {
            "text/plain": [
              "tensor([[ 1],\n",
              "        [ 2],\n",
              "        [ 3],\n",
              "        [ 4],\n",
              "        [ 5],\n",
              "        [ 6],\n",
              "        [ 7],\n",
              "        [ 8],\n",
              "        [ 9],\n",
              "        [10]])"
            ]
          },
          "metadata": {},
          "execution_count": 31
        }
      ]
    },
    {
      "cell_type": "code",
      "source": [
        "sample_tensor.unsqueeze(dim = 1).shape"
      ],
      "metadata": {
        "colab": {
          "base_uri": "https://localhost:8080/"
        },
        "id": "g2sNWSNcw1n-",
        "outputId": "9d964629-61da-4fb4-9f33-9b4bee63f7f4"
      },
      "execution_count": 33,
      "outputs": [
        {
          "output_type": "execute_result",
          "data": {
            "text/plain": [
              "torch.Size([10, 1])"
            ]
          },
          "metadata": {},
          "execution_count": 33
        }
      ]
    },
    {
      "cell_type": "markdown",
      "source": [
        "### Permute - rearranges the dimensions of a target tensor in a specified order"
      ],
      "metadata": {
        "id": "fE2PVnNmw7dz"
      }
    },
    {
      "cell_type": "code",
      "source": [
        "## we use the permute the rearrange the order of the dimension\n",
        "torch_permute = torch.rand(size = (5, 2, 3))\n",
        "torch_permute"
      ],
      "metadata": {
        "colab": {
          "base_uri": "https://localhost:8080/"
        },
        "id": "G64PQKxfyI4c",
        "outputId": "7c14e667-42f3-4806-bc89-622531a7a3db"
      },
      "execution_count": 34,
      "outputs": [
        {
          "output_type": "execute_result",
          "data": {
            "text/plain": [
              "tensor([[[0.2106, 0.9095, 0.7577],\n",
              "         [0.5917, 0.6282, 0.3121]],\n",
              "\n",
              "        [[0.6181, 0.2377, 0.7981],\n",
              "         [0.4168, 0.1791, 0.3762]],\n",
              "\n",
              "        [[0.4262, 0.5676, 0.3742],\n",
              "         [0.8561, 0.9720, 0.5608]],\n",
              "\n",
              "        [[0.6901, 0.0373, 0.8111],\n",
              "         [0.1461, 0.9965, 0.1254]],\n",
              "\n",
              "        [[0.1943, 0.8633, 0.2926],\n",
              "         [0.3414, 0.7663, 0.3576]]])"
            ]
          },
          "metadata": {},
          "execution_count": 34
        }
      ]
    },
    {
      "cell_type": "code",
      "source": [
        "torch_permute.shape"
      ],
      "metadata": {
        "colab": {
          "base_uri": "https://localhost:8080/"
        },
        "id": "AgC7XkeyzL7K",
        "outputId": "478571ff-8a44-4873-8ebb-056be11acd13"
      },
      "execution_count": 35,
      "outputs": [
        {
          "output_type": "execute_result",
          "data": {
            "text/plain": [
              "torch.Size([5, 2, 3])"
            ]
          },
          "metadata": {},
          "execution_count": 35
        }
      ]
    },
    {
      "cell_type": "code",
      "source": [
        "# we want to create the tensor of the shape (2, 3, 5)\n",
        "torch_permute.permute(1, 2, 0)"
      ],
      "metadata": {
        "colab": {
          "base_uri": "https://localhost:8080/"
        },
        "id": "ulf6XZbkzQSy",
        "outputId": "5a9094d7-4454-4803-fd26-66dedcd9e123"
      },
      "execution_count": 36,
      "outputs": [
        {
          "output_type": "execute_result",
          "data": {
            "text/plain": [
              "tensor([[[0.2106, 0.6181, 0.4262, 0.6901, 0.1943],\n",
              "         [0.9095, 0.2377, 0.5676, 0.0373, 0.8633],\n",
              "         [0.7577, 0.7981, 0.3742, 0.8111, 0.2926]],\n",
              "\n",
              "        [[0.5917, 0.4168, 0.8561, 0.1461, 0.3414],\n",
              "         [0.6282, 0.1791, 0.9720, 0.9965, 0.7663],\n",
              "         [0.3121, 0.3762, 0.5608, 0.1254, 0.3576]]])"
            ]
          },
          "metadata": {},
          "execution_count": 36
        }
      ]
    },
    {
      "cell_type": "code",
      "source": [
        "torch_permute.permute(1, 2, 0).shape"
      ],
      "metadata": {
        "colab": {
          "base_uri": "https://localhost:8080/"
        },
        "id": "HVi2kptCzgh9",
        "outputId": "f953aa82-73d2-441b-a22d-207c001f0303"
      },
      "execution_count": 37,
      "outputs": [
        {
          "output_type": "execute_result",
          "data": {
            "text/plain": [
              "torch.Size([2, 3, 5])"
            ]
          },
          "metadata": {},
          "execution_count": 37
        }
      ]
    },
    {
      "cell_type": "code",
      "source": [
        "print(f\"{torch_permute.shape} This is shape of the tensor before apply permute\")\n",
        "print(f\"{torch_permute.permute(1, 2, 0).shape} This is the shape of the tensor after apply permute\")"
      ],
      "metadata": {
        "colab": {
          "base_uri": "https://localhost:8080/"
        },
        "id": "LLJzl20fzmqD",
        "outputId": "04a93442-3d18-4b57-edfe-da8171662446"
      },
      "execution_count": 38,
      "outputs": [
        {
          "output_type": "stream",
          "name": "stdout",
          "text": [
            "torch.Size([5, 2, 3]) This is shape of the tensor before apply permute\n",
            "torch.Size([2, 3, 5]) This is the shape of the tensor after apply permute\n"
          ]
        }
      ]
    },
    {
      "cell_type": "code",
      "source": [
        "## permute is also share the original tensor same as view does\n",
        "## it means if do some changes in pemuted vector than it will be also reflected in original tensor\n",
        "original_tensor = torch.rand(size = (9,))\n",
        "original_tensor.unsqueeze(dim = 0).shape\n",
        "permuted_tensor = original_tensor.unsqueeze(dim = 0).permute(1, 0)\n",
        "permuted_tensor.shape\n"
      ],
      "metadata": {
        "colab": {
          "base_uri": "https://localhost:8080/"
        },
        "id": "D4k8_BMV0E8G",
        "outputId": "34f7d886-544d-4241-de7c-0b2c64af8564"
      },
      "execution_count": 50,
      "outputs": [
        {
          "output_type": "execute_result",
          "data": {
            "text/plain": [
              "torch.Size([9, 1])"
            ]
          },
          "metadata": {},
          "execution_count": 50
        }
      ]
    },
    {
      "cell_type": "code",
      "source": [
        "original_tensor"
      ],
      "metadata": {
        "colab": {
          "base_uri": "https://localhost:8080/"
        },
        "id": "CZkEwWIS9Cae",
        "outputId": "6cc0054d-cadf-454b-f73a-0ea7927d8933"
      },
      "execution_count": 45,
      "outputs": [
        {
          "output_type": "execute_result",
          "data": {
            "text/plain": [
              "tensor([0.2831, 0.6911, 0.2424, 0.6124, 0.5058, 0.2522, 0.2172, 0.3880, 0.7031])"
            ]
          },
          "metadata": {},
          "execution_count": 45
        }
      ]
    },
    {
      "cell_type": "code",
      "source": [
        "permuted_tensor"
      ],
      "metadata": {
        "colab": {
          "base_uri": "https://localhost:8080/"
        },
        "id": "YEVZ-Fbu-8FU",
        "outputId": "b4b10573-6188-4218-eeca-44befff23cab"
      },
      "execution_count": 46,
      "outputs": [
        {
          "output_type": "execute_result",
          "data": {
            "text/plain": [
              "tensor([[0.2831],\n",
              "        [0.6911],\n",
              "        [0.2424],\n",
              "        [0.6124],\n",
              "        [0.5058],\n",
              "        [0.2522],\n",
              "        [0.2172],\n",
              "        [0.3880],\n",
              "        [0.7031]])"
            ]
          },
          "metadata": {},
          "execution_count": 46
        }
      ]
    },
    {
      "cell_type": "code",
      "source": [
        "permuted_tensor[0][0] = 5.0"
      ],
      "metadata": {
        "id": "hKKfDzmW-9vv"
      },
      "execution_count": 47,
      "outputs": []
    },
    {
      "cell_type": "code",
      "source": [
        "permuted_tensor"
      ],
      "metadata": {
        "colab": {
          "base_uri": "https://localhost:8080/"
        },
        "id": "SZ3kwCp8_GF7",
        "outputId": "e3a89bfb-92b9-4ecb-8625-244a0e3cd550"
      },
      "execution_count": 48,
      "outputs": [
        {
          "output_type": "execute_result",
          "data": {
            "text/plain": [
              "tensor([[5.0000],\n",
              "        [0.6911],\n",
              "        [0.2424],\n",
              "        [0.6124],\n",
              "        [0.5058],\n",
              "        [0.2522],\n",
              "        [0.2172],\n",
              "        [0.3880],\n",
              "        [0.7031]])"
            ]
          },
          "metadata": {},
          "execution_count": 48
        }
      ]
    },
    {
      "cell_type": "code",
      "source": [
        "original_tensor"
      ],
      "metadata": {
        "colab": {
          "base_uri": "https://localhost:8080/"
        },
        "id": "Z03a4lst_H7d",
        "outputId": "cc1048a0-698c-47e2-bc69-469cd73ed14b"
      },
      "execution_count": 49,
      "outputs": [
        {
          "output_type": "execute_result",
          "data": {
            "text/plain": [
              "tensor([5.0000, 0.6911, 0.2424, 0.6124, 0.5058, 0.2522, 0.2172, 0.3880, 0.7031])"
            ]
          },
          "metadata": {},
          "execution_count": 49
        }
      ]
    },
    {
      "cell_type": "code",
      "source": [
        "original_tensor = torch.rand(size = (9,))\n",
        "print(f\"Original tensor before changes:{original_tensor}\")\n",
        "print(f\"Permuted tensor before changes: {original_tensor.unsqueeze(dim = 0).permute(1, 0)}\")\n",
        "print(\"These permuted tensor share a memory with original tensor\")\n",
        "print(\"\\n it mean if we do some changes in permuted tensor than the changes will also reflected in the original tensor also\")\n",
        "print(\"\\n if we change the first value of the permuted tensor to 5 than the it should be change in the original tensor also\")\n",
        "permuted_tensor = original_tensor.unsqueeze(dim = 0).permute(1,0)\n",
        "permuted_tensor[0][0] = 5\n",
        "print(f\"Permuted tensor after changes: {permuted_tensor}\")\n",
        "print(f\"Original tensor after changes: {original_tensor}\")"
      ],
      "metadata": {
        "colab": {
          "base_uri": "https://localhost:8080/"
        },
        "id": "_WOfXNZB_JXd",
        "outputId": "476c526a-22af-4f08-a987-465901c183f7"
      },
      "execution_count": 51,
      "outputs": [
        {
          "output_type": "stream",
          "name": "stdout",
          "text": [
            "Original tensor before changes:tensor([0.7454, 0.3629, 0.8185, 0.4300, 0.7066, 0.3214, 0.7402, 0.1371, 0.6693])\n",
            "Permuted tensor before changes: tensor([[0.7454],\n",
            "        [0.3629],\n",
            "        [0.8185],\n",
            "        [0.4300],\n",
            "        [0.7066],\n",
            "        [0.3214],\n",
            "        [0.7402],\n",
            "        [0.1371],\n",
            "        [0.6693]])\n",
            "These permuted tensor share a memory with original tensor\n",
            "\n",
            " it mean if we do some changes in permuted tensor than the changes will also reflected in the original tensor also\n",
            "\n",
            " if we change the first value of the permuted tensor to 5 than the it should be change in the original tensor also\n",
            "Permuted tensor after changes: tensor([[5.0000],\n",
            "        [0.3629],\n",
            "        [0.8185],\n",
            "        [0.4300],\n",
            "        [0.7066],\n",
            "        [0.3214],\n",
            "        [0.7402],\n",
            "        [0.1371],\n",
            "        [0.6693]])\n",
            "Original tensor after changes: tensor([5.0000, 0.3629, 0.8185, 0.4300, 0.7066, 0.3214, 0.7402, 0.1371, 0.6693])\n"
          ]
        }
      ]
    },
    {
      "cell_type": "markdown",
      "source": [
        "## **Selecting data form the tensor with the help of the indexing**\n",
        "\n",
        "`Indexing with pytourch is similar to indexing with numpy`"
      ],
      "metadata": {
        "id": "Yx-4gVjkBsCW"
      }
    },
    {
      "cell_type": "code",
      "source": [
        "import torch\n",
        "import numpy as np\n"
      ],
      "metadata": {
        "id": "lQCyJhchIBV6"
      },
      "execution_count": 53,
      "outputs": []
    },
    {
      "cell_type": "code",
      "source": [
        "x = torch.arange(1, 10).reshape(1, 3, 3)\n",
        "x"
      ],
      "metadata": {
        "colab": {
          "base_uri": "https://localhost:8080/"
        },
        "id": "EUt34hRKH8Nr",
        "outputId": "e94bc068-d4a3-4792-f40c-57c135b138b4"
      },
      "execution_count": 56,
      "outputs": [
        {
          "output_type": "execute_result",
          "data": {
            "text/plain": [
              "tensor([[[1, 2, 3],\n",
              "         [4, 5, 6],\n",
              "         [7, 8, 9]]])"
            ]
          },
          "metadata": {},
          "execution_count": 56
        }
      ]
    },
    {
      "cell_type": "code",
      "source": [
        "x[0]"
      ],
      "metadata": {
        "colab": {
          "base_uri": "https://localhost:8080/"
        },
        "id": "_DgbaSYqIe_2",
        "outputId": "b1a09171-88d1-4232-b752-69680fa1a71f"
      },
      "execution_count": 57,
      "outputs": [
        {
          "output_type": "execute_result",
          "data": {
            "text/plain": [
              "tensor([[1, 2, 3],\n",
              "        [4, 5, 6],\n",
              "        [7, 8, 9]])"
            ]
          },
          "metadata": {},
          "execution_count": 57
        }
      ]
    },
    {
      "cell_type": "code",
      "source": [
        "x[0][0]"
      ],
      "metadata": {
        "colab": {
          "base_uri": "https://localhost:8080/"
        },
        "id": "kT6pEb2cIkIY",
        "outputId": "077a3c6c-96e3-40d3-ae10-6b1dec8d9bf2"
      },
      "execution_count": 58,
      "outputs": [
        {
          "output_type": "execute_result",
          "data": {
            "text/plain": [
              "tensor([1, 2, 3])"
            ]
          },
          "metadata": {},
          "execution_count": 58
        }
      ]
    },
    {
      "cell_type": "code",
      "source": [
        "x[0][0][0]\n",
        "# it is similar to x[0,0,0]"
      ],
      "metadata": {
        "colab": {
          "base_uri": "https://localhost:8080/"
        },
        "id": "alUbQZ6rIl5u",
        "outputId": "9e2dc164-e5a1-402d-84e6-c6d9232a6b6b"
      },
      "execution_count": 65,
      "outputs": [
        {
          "output_type": "execute_result",
          "data": {
            "text/plain": [
              "tensor(1)"
            ]
          },
          "metadata": {},
          "execution_count": 65
        }
      ]
    },
    {
      "cell_type": "code",
      "source": [
        "x[0,0,0]"
      ],
      "metadata": {
        "colab": {
          "base_uri": "https://localhost:8080/"
        },
        "id": "36oj8K9NIpFP",
        "outputId": "b952e96c-1f61-44a5-b3e8-bf9d65229096"
      },
      "execution_count": 60,
      "outputs": [
        {
          "output_type": "execute_result",
          "data": {
            "text/plain": [
              "tensor(1)"
            ]
          },
          "metadata": {},
          "execution_count": 60
        }
      ]
    },
    {
      "cell_type": "markdown",
      "source": [
        "## Pytorch tensors and Numpy\n",
        "\n",
        "Numpy is a popular scientific Python numerical computnig library.\n",
        "\n",
        "And because of this, Pytorch has funcionality to interact with it.\n",
        "\n",
        "* Data in Numpy, want in pytorch tensor -> `torch.from_numpy(ndarray)`\n",
        "\n",
        "* Pytorch tensor -> Numpy -> `torch.Tensor.numpy()`\n"
      ],
      "metadata": {
        "id": "bfP3b7VOI1rh"
      }
    },
    {
      "cell_type": "code",
      "source": [
        "## Numpy array to Torch tensors\n",
        "\n",
        "import numpy as np\n",
        "import torch\n",
        "\n",
        "array = np.random.rand(3,4)\n",
        "array"
      ],
      "metadata": {
        "colab": {
          "base_uri": "https://localhost:8080/"
        },
        "id": "RWxb8q9UI3fl",
        "outputId": "8f166206-eb7b-43ce-d86e-f9c90e1fb2bf"
      },
      "execution_count": 66,
      "outputs": [
        {
          "output_type": "execute_result",
          "data": {
            "text/plain": [
              "array([[0.05715463, 0.3874662 , 0.9388421 , 0.80698028],\n",
              "       [0.46384225, 0.1563063 , 0.7752277 , 0.82932196],\n",
              "       [0.97077847, 0.65066051, 0.60720756, 0.21268411]])"
            ]
          },
          "metadata": {},
          "execution_count": 66
        }
      ]
    },
    {
      "cell_type": "code",
      "source": [
        "array_to_tensor = torch.from_numpy(array)\n",
        "array_to_tensor = array_to_tensor.type(torch.float64)"
      ],
      "metadata": {
        "id": "eNdzIyU2PwHI"
      },
      "execution_count": 74,
      "outputs": []
    },
    {
      "cell_type": "code",
      "source": [
        "print(f\"Type of array is {type(array)}\")\n",
        "print(f\"Type of array_to_tensor is {type(array_to_tensor)}\")"
      ],
      "metadata": {
        "colab": {
          "base_uri": "https://localhost:8080/"
        },
        "id": "jgcXYLXiP5yO",
        "outputId": "23cf873d-4be2-4ceb-cd8a-0fffd7b7d161"
      },
      "execution_count": 82,
      "outputs": [
        {
          "output_type": "stream",
          "name": "stdout",
          "text": [
            "Type of array is <class 'numpy.ndarray'>\n",
            "Type of array_to_tensor is <class 'torch.Tensor'>\n"
          ]
        }
      ]
    },
    {
      "cell_type": "code",
      "source": [
        "print(array_to_tensor)"
      ],
      "metadata": {
        "colab": {
          "base_uri": "https://localhost:8080/"
        },
        "id": "wd-j6LPFQGJq",
        "outputId": "ce30f772-33b8-4478-86ff-ac7ca390a301"
      },
      "execution_count": 76,
      "outputs": [
        {
          "output_type": "stream",
          "name": "stdout",
          "text": [
            "tensor([[0.0572, 0.3875, 0.9388, 0.8070],\n",
            "        [0.4638, 0.1563, 0.7752, 0.8293],\n",
            "        [0.9708, 0.6507, 0.6072, 0.2127]], dtype=torch.float64)\n"
          ]
        }
      ]
    },
    {
      "cell_type": "code",
      "source": [
        "# Pytorch tensor to Numpy array\n",
        "\n",
        "tensor = torch.rand(3,4, dtype=torch.float64)\n",
        "tensor"
      ],
      "metadata": {
        "colab": {
          "base_uri": "https://localhost:8080/"
        },
        "id": "WrEYkdIbQVhy",
        "outputId": "319b8159-e033-45d7-96aa-e3174cfc35de"
      },
      "execution_count": 85,
      "outputs": [
        {
          "output_type": "execute_result",
          "data": {
            "text/plain": [
              "tensor([[0.7393, 0.7987, 0.0798, 0.1464],\n",
              "        [0.8217, 0.7132, 0.0969, 0.0850],\n",
              "        [0.3608, 0.6473, 0.8561, 0.0523]], dtype=torch.float64)"
            ]
          },
          "metadata": {},
          "execution_count": 85
        }
      ]
    },
    {
      "cell_type": "code",
      "source": [
        "tensor_to_array = torch.Tensor.numpy(tensor)\n",
        "tensor_to_array"
      ],
      "metadata": {
        "colab": {
          "base_uri": "https://localhost:8080/"
        },
        "id": "HTD5hOteQp-U",
        "outputId": "5517d453-e250-43f6-f9c6-1c0eca989d5d"
      },
      "execution_count": 86,
      "outputs": [
        {
          "output_type": "execute_result",
          "data": {
            "text/plain": [
              "array([[0.73934466, 0.7987428 , 0.07975711, 0.14641993],\n",
              "       [0.82165422, 0.71317957, 0.09693322, 0.08503595],\n",
              "       [0.36082005, 0.64729048, 0.85607963, 0.05234   ]])"
            ]
          },
          "metadata": {},
          "execution_count": 86
        }
      ]
    },
    {
      "cell_type": "code",
      "source": [
        "print(f\"Type of tensor is {type(tensor)}\")\n",
        "print(f\"Type of tensor_to_array is {type(tensor_to_array)}\")"
      ],
      "metadata": {
        "colab": {
          "base_uri": "https://localhost:8080/"
        },
        "id": "f4ikgT-BQxi8",
        "outputId": "85b6c5e2-ca94-4768-a76d-c6ff4ff90f6e"
      },
      "execution_count": 87,
      "outputs": [
        {
          "output_type": "stream",
          "name": "stdout",
          "text": [
            "Type of tensor is <class 'torch.Tensor'>\n",
            "Type of tensor_to_array is <class 'numpy.ndarray'>\n"
          ]
        }
      ]
    },
    {
      "cell_type": "code",
      "source": [
        "## warning : When coverting form numpy -> pytorch , pytorch reflects numpy's default datatype of float64 unless specified otherwise"
      ],
      "metadata": {
        "id": "Sdw87nbyRDJe"
      },
      "execution_count": 88,
      "outputs": []
    },
    {
      "cell_type": "markdown",
      "source": [
        "## Reproducbility(trying to take random out of random)\n",
        "\n",
        "> `start with random numbers -> tensor operations -> update random numbers to try and make them of the data -> again -> again -> again.....`\n",
        "\n",
        "To reduce the randomness in neural networks and pytorch comes the concept of a `random seed.`\n",
        "\n",
        "Essentialy what the random seed does if \"flabour\" the randomness.\n",
        "\n",
        "\n",
        "\n",
        "\n",
        "\n"
      ],
      "metadata": {
        "id": "GqDT-ApiSbl3"
      }
    },
    {
      "cell_type": "code",
      "source": [
        "import torch\n",
        "Tensor_A = torch.rand(3,4)\n",
        "Tensor_B = torch.rand(3,4)\n",
        "\n",
        "print(Tensor_A)\n",
        "print(Tensor_B)\n",
        "print(Tensor_A == Tensor_B)"
      ],
      "metadata": {
        "colab": {
          "base_uri": "https://localhost:8080/"
        },
        "id": "AwDuVYD_VcWq",
        "outputId": "b0f06684-943a-4cc1-ca42-180cb422b681"
      },
      "execution_count": 108,
      "outputs": [
        {
          "output_type": "stream",
          "name": "stdout",
          "text": [
            "tensor([[0.4275, 0.3496, 0.3803, 0.8434],\n",
            "        [0.8925, 0.1010, 0.2474, 0.4152],\n",
            "        [0.2245, 0.3636, 0.2307, 0.2952]])\n",
            "tensor([[0.2026, 0.8476, 0.2399, 0.9552],\n",
            "        [0.2229, 0.8109, 0.8239, 0.9731],\n",
            "        [0.5417, 0.4579, 0.9936, 0.6395]])\n",
            "tensor([[False, False, False, False],\n",
            "        [False, False, False, False],\n",
            "        [False, False, False, False]])\n"
          ]
        }
      ]
    },
    {
      "cell_type": "code",
      "source": [
        "## Let's make some random but reproducible tensors\n",
        "import torch\n",
        "\n",
        "## set the random seed\n",
        "\n",
        "RANDOM_SEED = 42\n",
        "torch.manual_seed(RANDOM_SEED)\n",
        "Tensor_A = torch.rand(3,4)\n",
        "torch.manual_seed(RANDOM_SEED)\n",
        "Tensor_B = torch.rand(3,4)\n",
        "\n",
        "print(Tensor_A)\n",
        "print(Tensor_B)\n",
        "print(Tensor_A == Tensor_B)"
      ],
      "metadata": {
        "colab": {
          "base_uri": "https://localhost:8080/"
        },
        "id": "kizhJmRsXaMb",
        "outputId": "64cd843a-86ba-4f50-bbae-5732511320b3"
      },
      "execution_count": 117,
      "outputs": [
        {
          "output_type": "stream",
          "name": "stdout",
          "text": [
            "tensor([[0.8823, 0.9150, 0.3829, 0.9593],\n",
            "        [0.3904, 0.6009, 0.2566, 0.7936],\n",
            "        [0.9408, 0.1332, 0.9346, 0.5936]])\n",
            "tensor([[0.8823, 0.9150, 0.3829, 0.9593],\n",
            "        [0.3904, 0.6009, 0.2566, 0.7936],\n",
            "        [0.9408, 0.1332, 0.9346, 0.5936]])\n",
            "tensor([[True, True, True, True],\n",
            "        [True, True, True, True],\n",
            "        [True, True, True, True]])\n"
          ]
        }
      ]
    },
    {
      "cell_type": "markdown",
      "source": [
        "## Runnnig tensors and Pytorch objects on the GPUs (and making faster computation)\n",
        "\n",
        "GPUs = faster computation on numbers, thanks to CUDA + NVIDIA hardwear + pytorch working behind the scenes to make everything hunky dory(good)"
      ],
      "metadata": {
        "id": "jGROCksiX3Ih"
      }
    },
    {
      "cell_type": "code",
      "source": [
        "!nvidia-smi"
      ],
      "metadata": {
        "colab": {
          "base_uri": "https://localhost:8080/"
        },
        "id": "-robrGhHa-Ie",
        "outputId": "b66c8034-44c9-4b06-b0f1-c30e00a05777"
      },
      "execution_count": 1,
      "outputs": [
        {
          "output_type": "stream",
          "name": "stdout",
          "text": [
            "Tue Apr 22 07:42:51 2025       \n",
            "+-----------------------------------------------------------------------------------------+\n",
            "| NVIDIA-SMI 550.54.15              Driver Version: 550.54.15      CUDA Version: 12.4     |\n",
            "|-----------------------------------------+------------------------+----------------------+\n",
            "| GPU  Name                 Persistence-M | Bus-Id          Disp.A | Volatile Uncorr. ECC |\n",
            "| Fan  Temp   Perf          Pwr:Usage/Cap |           Memory-Usage | GPU-Util  Compute M. |\n",
            "|                                         |                        |               MIG M. |\n",
            "|=========================================+========================+======================|\n",
            "|   0  Tesla T4                       Off |   00000000:00:04.0 Off |                    0 |\n",
            "| N/A   43C    P8              9W /   70W |       0MiB /  15360MiB |      0%      Default |\n",
            "|                                         |                        |                  N/A |\n",
            "+-----------------------------------------+------------------------+----------------------+\n",
            "                                                                                         \n",
            "+-----------------------------------------------------------------------------------------+\n",
            "| Processes:                                                                              |\n",
            "|  GPU   GI   CI        PID   Type   Process name                              GPU Memory |\n",
            "|        ID   ID                                                               Usage      |\n",
            "|=========================================================================================|\n",
            "|  No running processes found                                                             |\n",
            "+-----------------------------------------------------------------------------------------+\n"
          ]
        }
      ]
    },
    {
      "cell_type": "code",
      "source": [
        "# check for gpu using pytorch\n",
        "import torch\n",
        "torch.cuda.is_available()"
      ],
      "metadata": {
        "colab": {
          "base_uri": "https://localhost:8080/"
        },
        "id": "gKNb7gQDcyH5",
        "outputId": "8a8afe54-47ba-496a-d350-49765649248a"
      },
      "execution_count": 2,
      "outputs": [
        {
          "output_type": "execute_result",
          "data": {
            "text/plain": [
              "True"
            ]
          },
          "metadata": {},
          "execution_count": 2
        }
      ]
    },
    {
      "cell_type": "code",
      "source": [
        "# setup device agnostic code\n",
        "device = \"cuda\" if torch.cuda.is_available() else \"cpu\"\n",
        "device"
      ],
      "metadata": {
        "colab": {
          "base_uri": "https://localhost:8080/",
          "height": 35
        },
        "id": "tBQQT-xldKZk",
        "outputId": "4f4ce221-5040-4abd-feb1-44908043ffb6"
      },
      "execution_count": 3,
      "outputs": [
        {
          "output_type": "execute_result",
          "data": {
            "text/plain": [
              "'cuda'"
            ],
            "application/vnd.google.colaboratory.intrinsic+json": {
              "type": "string"
            }
          },
          "metadata": {},
          "execution_count": 3
        }
      ]
    },
    {
      "cell_type": "code",
      "source": [
        "torch.cuda.device_count()"
      ],
      "metadata": {
        "colab": {
          "base_uri": "https://localhost:8080/"
        },
        "id": "8v4dm2z7dqmQ",
        "outputId": "c57df7d8-8630-48b1-806b-9c605b981f7b"
      },
      "execution_count": 5,
      "outputs": [
        {
          "output_type": "execute_result",
          "data": {
            "text/plain": [
              "1"
            ]
          },
          "metadata": {},
          "execution_count": 5
        }
      ]
    },
    {
      "cell_type": "markdown",
      "source": [
        "## putting tensors (and models) on the GPU\n",
        "\n",
        "The reason we want ourp tensors/models on the GPU is because using a GPU results in faster computations."
      ],
      "metadata": {
        "id": "_eF8qtCDd12U"
      }
    },
    {
      "cell_type": "code",
      "source": [
        "import torch\n",
        "import numpy as np\n",
        "device = \"cuda\" if torch.cuda.is_available() else \"cpu\"\n",
        "\n",
        "# define a tensor\n",
        "tensor = torch.tensor([4, 5, 6])\n",
        "print(tensor, tensor.device) # by default it will on cpu"
      ],
      "metadata": {
        "colab": {
          "base_uri": "https://localhost:8080/"
        },
        "id": "-odVrg-4eWTB",
        "outputId": "92bbbe5e-997e-4c72-ec52-569b9b5e0f0f"
      },
      "execution_count": 4,
      "outputs": [
        {
          "output_type": "stream",
          "name": "stdout",
          "text": [
            "tensor([4, 5, 6]) cpu\n"
          ]
        }
      ]
    },
    {
      "cell_type": "code",
      "source": [
        "# if we want to run particulat tensor on gpy than we have to pass it through tensor\n",
        "tensor = torch.tensor([1, 2, 3], device = device , dtype = torch.float32)\n",
        "\n",
        "print(tensor, tensor.device)"
      ],
      "metadata": {
        "colab": {
          "base_uri": "https://localhost:8080/"
        },
        "id": "GkW7c9JGez-b",
        "outputId": "645e66ea-8508-4f02-8c3d-e1d30bef300f"
      },
      "execution_count": 3,
      "outputs": [
        {
          "output_type": "stream",
          "name": "stdout",
          "text": [
            "tensor([1., 2., 3.], device='cuda:0') cuda:0\n"
          ]
        }
      ]
    },
    {
      "cell_type": "code",
      "source": [
        "# if we don't want to create a new tensor and we want to run our existed tensor on gpu than\n",
        "tensor = tensor.to(device)"
      ],
      "metadata": {
        "id": "Ump9M3oKfMA-"
      },
      "execution_count": 5,
      "outputs": []
    },
    {
      "cell_type": "code",
      "source": [
        "print(tensor , tensor.device)"
      ],
      "metadata": {
        "colab": {
          "base_uri": "https://localhost:8080/"
        },
        "id": "4LQu6RN9ftbI",
        "outputId": "27a9f455-165b-4346-f0c0-9766e86aaf5c"
      },
      "execution_count": 6,
      "outputs": [
        {
          "output_type": "stream",
          "name": "stdout",
          "text": [
            "tensor([4, 5, 6], device='cuda:0') cuda:0\n"
          ]
        }
      ]
    },
    {
      "cell_type": "markdown",
      "source": [
        "# so there is two methods to pass an tensor to gpu or create a tensor on gpu\n",
        "```python\n",
        "# 1. create a new tensor\n",
        "tensor = torch.tensor([1, 2, 3], device = \"cuda\" if troch.cuda.is_available() else \"cpu\")\n",
        "print(tensor, tensor.device)\n",
        "\n",
        "# 2. pass a existing tensor from cpu to gpu\n",
        "tensor = tensor.to(\"cuda\" if torch.cuda.is_available() else \"cpu\")\n",
        "print(tensor, tensor.device)\n",
        "```"
      ],
      "metadata": {
        "id": "XQ1YrHWxfxpy"
      }
    },
    {
      "cell_type": "markdown",
      "source": [
        "## moving tensor back to the CPU"
      ],
      "metadata": {
        "id": "omw8FFLihlT_"
      }
    },
    {
      "cell_type": "code",
      "source": [
        "## If tensor is on GPU, can't transform it to Numpy\n",
        "tensor_numpy = torch.Tensor.numpy(tensor)\n",
        "\n",
        "# if we excecute this line than we will get a error\n",
        "#can't convert cuda:0 device type tensor to numpy. Use Tensor.cpu() to copy the tensor to host memory first."
      ],
      "metadata": {
        "id": "siJBpj6_iO3r"
      },
      "execution_count": 8,
      "outputs": []
    },
    {
      "cell_type": "code",
      "source": [
        "# to fix this issue we can set it to the CPU first\n",
        "tensor_array = tensor.to(\"cpu\")\n",
        "tensor_array = tensor_array.numpy()\n",
        "tensor_array"
      ],
      "metadata": {
        "colab": {
          "base_uri": "https://localhost:8080/"
        },
        "id": "uXs2vgMrifuV",
        "outputId": "904e94b9-4cce-48a2-b0a9-93142af6d94e"
      },
      "execution_count": 9,
      "outputs": [
        {
          "output_type": "execute_result",
          "data": {
            "text/plain": [
              "array([4, 5, 6])"
            ]
          },
          "metadata": {},
          "execution_count": 9
        }
      ]
    },
    {
      "cell_type": "markdown",
      "source": [
        "## Exercise"
      ],
      "metadata": {
        "id": "4GqZ1VAjlFSA"
      }
    },
    {
      "cell_type": "markdown",
      "source": [
        "1. Create a random tensor with shape `(7,7)`"
      ],
      "metadata": {
        "id": "U3Sbsbq8sLHp"
      }
    },
    {
      "cell_type": "code",
      "source": [
        "import torch\n",
        "import numpy as np\n",
        "\n",
        "tensor1 = torch.rand(size = (7,7))\n",
        "tensor1.shape"
      ],
      "metadata": {
        "colab": {
          "base_uri": "https://localhost:8080/"
        },
        "id": "PXwap9qbsWCi",
        "outputId": "058534d6-9496-43ae-af70-438ef6e937d6"
      },
      "execution_count": 13,
      "outputs": [
        {
          "output_type": "execute_result",
          "data": {
            "text/plain": [
              "torch.Size([7, 7])"
            ]
          },
          "metadata": {},
          "execution_count": 13
        }
      ]
    },
    {
      "cell_type": "markdown",
      "source": [
        "2. perform a matrix multiplication on the tensor from 1 with another random tensor with shape `(1,7)`"
      ],
      "metadata": {
        "id": "CfxzYnHKsfuQ"
      }
    },
    {
      "cell_type": "code",
      "source": [
        "tensor2 = torch.rand(size = (1,7))\n",
        "tensor2.shape"
      ],
      "metadata": {
        "colab": {
          "base_uri": "https://localhost:8080/"
        },
        "id": "yMZ79bjIs1zA",
        "outputId": "2d4cb5d4-c5c4-4930-9443-87e62c206e78"
      },
      "execution_count": 14,
      "outputs": [
        {
          "output_type": "execute_result",
          "data": {
            "text/plain": [
              "torch.Size([1, 7])"
            ]
          },
          "metadata": {},
          "execution_count": 14
        }
      ]
    },
    {
      "cell_type": "code",
      "source": [
        "print(f\"Shape of tensor1 is {tensor1.shape}\")\n",
        "print(f\"Shape of tensor2 is {tensor2.shape}\")\n",
        "print(f\"So the Shape of the output of the matrix multiplication is {torch.matmul(tensor1, tensor2.T).shape}\")\n",
        "\n",
        "print(f\"output of the matrix multiplication is {torch.matmul(tensor1, tensor2.T)}\")"
      ],
      "metadata": {
        "colab": {
          "base_uri": "https://localhost:8080/"
        },
        "id": "CU1g-wips-T7",
        "outputId": "9978004e-116c-42e6-f0d7-7440c22d49b2"
      },
      "execution_count": 19,
      "outputs": [
        {
          "output_type": "stream",
          "name": "stdout",
          "text": [
            "Shape of tensor1 is torch.Size([7, 7])\n",
            "Shape of tensor2 is torch.Size([1, 7])\n",
            "So the Shape of the output of the matrix multiplication is torch.Size([7, 1])\n",
            "output of the matrix multiplication is tensor([[2.3538],\n",
            "        [1.9773],\n",
            "        [2.3135],\n",
            "        [2.0550],\n",
            "        [1.5597],\n",
            "        [2.0286],\n",
            "        [2.3802]])\n"
          ]
        }
      ]
    },
    {
      "cell_type": "markdown",
      "source": [
        "3. Set the random seed 0 and do 1 & 2 over again"
      ],
      "metadata": {
        "id": "SwAeZFLmtETp"
      }
    },
    {
      "cell_type": "code",
      "source": [
        "RANDOM_SEED = 0\n",
        "torch.manual_seed(RANDOM_SEED)\n",
        "tensor1 = torch.rand(size = (7,7))\n",
        "torch.manual_seed(RANDOM_SEED)\n",
        "tensor2 = torch.rand(size = (1,7))\n",
        "print(f\"tensor1 : {tensor1}\")\n",
        "print(f\"tensor2 : {tensor2}\")\n",
        "print(\"we have to take transpose of the tensor2 to match the inner dimension of the tensor2 and the outer dimension of tensor1\")\n",
        "print(f\"Transoposed tensor2: {tensor2.T}\")\n",
        "print(\"now each time we will get the same output of the matrix multiplication\")\n",
        "print(f\"output of the matrix multiplication is {torch.matmul(tensor1, tensor2.T)}\")"
      ],
      "metadata": {
        "colab": {
          "base_uri": "https://localhost:8080/"
        },
        "id": "bLdKExgKt4eU",
        "outputId": "2ee361ae-392c-4491-f501-bf4a7357ec9b"
      },
      "execution_count": 23,
      "outputs": [
        {
          "output_type": "stream",
          "name": "stdout",
          "text": [
            "tensor1 : tensor([[0.4963, 0.7682, 0.0885, 0.1320, 0.3074, 0.6341, 0.4901],\n",
            "        [0.8964, 0.4556, 0.6323, 0.3489, 0.4017, 0.0223, 0.1689],\n",
            "        [0.2939, 0.5185, 0.6977, 0.8000, 0.1610, 0.2823, 0.6816],\n",
            "        [0.9152, 0.3971, 0.8742, 0.4194, 0.5529, 0.9527, 0.0362],\n",
            "        [0.1852, 0.3734, 0.3051, 0.9320, 0.1759, 0.2698, 0.1507],\n",
            "        [0.0317, 0.2081, 0.9298, 0.7231, 0.7423, 0.5263, 0.2437],\n",
            "        [0.5846, 0.0332, 0.1387, 0.2422, 0.8155, 0.7932, 0.2783]])\n",
            "tensor2 : tensor([[0.4963, 0.7682, 0.0885, 0.1320, 0.3074, 0.6341, 0.4901]])\n",
            "we have to take transpose of the tensor2 to match the inner dimension of the tensor2 and the outer dimension of tensor1\n",
            "Transoposed tensor2: tensor([[0.4963],\n",
            "        [0.7682],\n",
            "        [0.0885],\n",
            "        [0.1320],\n",
            "        [0.3074],\n",
            "        [0.6341],\n",
            "        [0.4901]])\n",
            "now each time we will get the same output of the matrix multiplication\n",
            "output of the matrix multiplication is tensor([[1.5985],\n",
            "        [1.1173],\n",
            "        [1.2741],\n",
            "        [1.6838],\n",
            "        [0.8279],\n",
            "        [1.0347],\n",
            "        [1.2498]])\n"
          ]
        }
      ]
    },
    {
      "cell_type": "code",
      "source": [
        "tensor1.device"
      ],
      "metadata": {
        "colab": {
          "base_uri": "https://localhost:8080/"
        },
        "id": "lPpitkWiuj1C",
        "outputId": "a3624f8a-6298-47f1-fa16-f3693ae32450"
      },
      "execution_count": 24,
      "outputs": [
        {
          "output_type": "execute_result",
          "data": {
            "text/plain": [
              "device(type='cpu')"
            ]
          },
          "metadata": {},
          "execution_count": 24
        }
      ]
    },
    {
      "cell_type": "markdown",
      "source": [
        "4. Speaking of random seeds, we saw how to set it with `torch.manual_seed()` but is there a GPU equivalent?"
      ],
      "metadata": {
        "id": "cQnmOlUfvZ2k"
      }
    },
    {
      "cell_type": "code",
      "source": [
        "RANDOM_SEED = 1234\n",
        "torch.cuda.manual_seed(RANDOM_SEED)\n",
        "tensor1 = torch.rand(size = (7,7), device = \"cuda\" if torch.cuda.is_available else \"cpu\")\n",
        "print(tensor1)\n",
        "print(f\"tensor1 is on {tensor1.device}\")\n",
        "torch.cuda.manual_seed(RANDOM_SEED)\n",
        "tensor2 = torch.rand(size = (1,7), device = \"cuda\" if torch.cuda.is_available else \"cpu\")\n",
        "print(tensor2)\n",
        "print(f\"tensor2 is on {tensor2.device}\")\n",
        "print(\"now we will do matrix multiplication\")\n",
        "output = torch.matmul(tensor1, tensor2.T)\n",
        "print(output)\n",
        "print(f\"shape of the output: {output.shape}\")"
      ],
      "metadata": {
        "colab": {
          "base_uri": "https://localhost:8080/"
        },
        "id": "skvS6V5MwpzX",
        "outputId": "22051f38-8725-459f-bec6-8e7b5677a9c4"
      },
      "execution_count": 34,
      "outputs": [
        {
          "output_type": "stream",
          "name": "stdout",
          "text": [
            "tensor([[0.1272, 0.8167, 0.5440, 0.6601, 0.2721, 0.9737, 0.3903],\n",
            "        [0.3394, 0.5451, 0.7312, 0.3864, 0.5959, 0.7578, 0.2126],\n",
            "        [0.7198, 0.9845, 0.5518, 0.0981, 0.0582, 0.5839, 0.1083],\n",
            "        [0.9461, 0.3170, 0.8328, 0.6676, 0.2886, 0.9022, 0.8115],\n",
            "        [0.1784, 0.9534, 0.1486, 0.3882, 0.7977, 0.1752, 0.5777],\n",
            "        [0.1949, 0.8499, 0.3125, 0.2156, 0.0383, 0.4934, 0.3138],\n",
            "        [0.3121, 0.5664, 0.1266, 0.7097, 0.0040, 0.5147, 0.2811]],\n",
            "       device='cuda:0')\n",
            "tensor1 is on cuda:0\n",
            "tensor([[0.1272, 0.8167, 0.5440, 0.6601, 0.2721, 0.9737, 0.3903]],\n",
            "       device='cuda:0')\n",
            "tensor2 is on cuda:0\n",
            "now we will do matrix multiplication\n",
            "tensor([[2.5893],\n",
            "        [2.1242],\n",
            "        [1.8872],\n",
            "        [2.5468],\n",
            "        [1.7516],\n",
            "        [1.6445],\n",
            "        [1.6517]], device='cuda:0')\n",
            "shape of the output: torch.Size([7, 1])\n"
          ]
        }
      ]
    },
    {
      "cell_type": "markdown",
      "source": [
        "5. Create a two random tensors of shape `(2,3)` and send them both to the GPU"
      ],
      "metadata": {
        "id": "GoTEjDxZzD2m"
      }
    },
    {
      "cell_type": "code",
      "source": [
        "RANDOM_SEED = 1234\n",
        "device = \"cuda\" if torch.cuda.is_available() else \"cpu\"\n",
        "print(device)\n",
        "torch.manual_seed(RANDOM_SEED)\n",
        "tensor1 = torch.rand(size = (2,3))\n",
        "torch.manual_seed(RANDOM_SEED)\n",
        "tensor2 = torch.rand(size = (2,3))\n",
        "print(f\"tensor1 is on {tensor1.device}\")\n",
        "print(f\"tensor2 is on {tensor2.device}\")\n",
        "print(tensor1)\n",
        "print(tensor2)\n",
        "print(\"now send both tensors to the GPU\")\n",
        "tensor1 = tensor1.to(device)\n",
        "tensor2 = tensor2.to(device)\n",
        "print(f\"Now tensor1 is on {tensor1.device}\")\n",
        "print(f\"Now tansor2 is on {tensor2.device}\")\n",
        "print(tensor1)\n",
        "print(tensor2)"
      ],
      "metadata": {
        "colab": {
          "base_uri": "https://localhost:8080/"
        },
        "id": "TSVCkJT50oE_",
        "outputId": "ba9bb18a-5577-4b90-8390-5e43b18a8cc2"
      },
      "execution_count": 38,
      "outputs": [
        {
          "output_type": "stream",
          "name": "stdout",
          "text": [
            "cuda\n",
            "tensor1 is on cpu\n",
            "tensor2 is on cpu\n",
            "tensor([[0.0290, 0.4019, 0.2598],\n",
            "        [0.3666, 0.0583, 0.7006]])\n",
            "tensor([[0.0290, 0.4019, 0.2598],\n",
            "        [0.3666, 0.0583, 0.7006]])\n",
            "now send both tensors to the GPU\n",
            "Now tensor1 is on cuda:0\n",
            "Now tansor2 is on cuda:0\n",
            "tensor([[0.0290, 0.4019, 0.2598],\n",
            "        [0.3666, 0.0583, 0.7006]], device='cuda:0')\n",
            "tensor([[0.0290, 0.4019, 0.2598],\n",
            "        [0.3666, 0.0583, 0.7006]], device='cuda:0')\n"
          ]
        }
      ]
    },
    {
      "cell_type": "markdown",
      "source": [
        "6. Perform a matrix multiplication on the tensors you created in 5"
      ],
      "metadata": {
        "id": "Z2YoOWve2CHx"
      }
    },
    {
      "cell_type": "code",
      "source": [
        "output = torch.matmul(tensor1, tensor2.T)\n",
        "print(output)\n",
        "print(f\"Shape of the output: {output.shape}\")"
      ],
      "metadata": {
        "colab": {
          "base_uri": "https://localhost:8080/"
        },
        "id": "sMuYEmqr2wFC",
        "outputId": "2e9fafc4-f901-492b-9bc9-e264e07b31fc"
      },
      "execution_count": 41,
      "outputs": [
        {
          "output_type": "stream",
          "name": "stdout",
          "text": [
            "tensor([[0.2299, 0.2161],\n",
            "        [0.2161, 0.6287]], device='cuda:0')\n",
            "Shape of the output: torch.Size([2, 2])\n"
          ]
        }
      ]
    },
    {
      "cell_type": "markdown",
      "source": [
        "7. Find the maximum and minimum values of the output of 6"
      ],
      "metadata": {
        "id": "JRyFpeH83KCv"
      }
    },
    {
      "cell_type": "code",
      "source": [
        "# To find the max and min we will use `torch.min()` and `torch.max()`\n",
        "min_value = torch.min(output) # we can also use output.min()\n",
        "max_value = torch.max(output) # we can also use output.max()\n",
        "print(f\"Minimum value of the output: {min_value}\")\n",
        "print(f\"Maximum value of the output: {max_value}\")"
      ],
      "metadata": {
        "colab": {
          "base_uri": "https://localhost:8080/"
        },
        "id": "i-AvmtuR3cM6",
        "outputId": "4e0eb31b-20b2-4cd7-e663-245a1effa7ab"
      },
      "execution_count": 42,
      "outputs": [
        {
          "output_type": "stream",
          "name": "stdout",
          "text": [
            "Minimum value of the output: 0.21611443161964417\n",
            "Maximum value of the output: 0.628727912902832\n"
          ]
        }
      ]
    },
    {
      "cell_type": "markdown",
      "source": [
        "8. FInd the Maximum and Minimum index values of the output 6"
      ],
      "metadata": {
        "id": "OPQk8vxc4BKN"
      }
    },
    {
      "cell_type": "code",
      "source": [
        "# to find the index of the min and max value of the output we will use `torch.argmin()` and  `torch.argmax()`\n",
        "idx_min_value = torch.argmin(output)\n",
        "idx_max_value = torch.argmax(output)\n",
        "\n",
        "print(f\"Minimum value is on the index: {idx_min_value}\")\n",
        "print(f\"Maximum value is on the index: {idx_max_value}\")"
      ],
      "metadata": {
        "colab": {
          "base_uri": "https://localhost:8080/"
        },
        "id": "SBcb6eTV4RF5",
        "outputId": "4a2646aa-1d00-4247-882d-9c32f7f7bdd3"
      },
      "execution_count": 43,
      "outputs": [
        {
          "output_type": "stream",
          "name": "stdout",
          "text": [
            "Minimum value is on the index: 1\n",
            "Maximum value is on the index: 3\n"
          ]
        }
      ]
    },
    {
      "cell_type": "markdown",
      "source": [
        "9. Make a random tensor with shape `(1, 1, 1, 10)` and then create a new tensor with all the `1` dimensions removed to be left with a tensor of shape `(10)`. Set the seed to `7` when you create it and print out the first tensor and it's shape as well as the second tensor and it's shape."
      ],
      "metadata": {
        "id": "x1QYzFFV42hQ"
      }
    },
    {
      "cell_type": "code",
      "source": [
        "# To set the random seed fot the gpu we will use `torch.cuda.manual_seed(RANDOM_SEED)`\n",
        "RANDOM_SEED = 7\n",
        "torch.cuda.manual_seed(RANDOM_SEED)\n",
        "# To crate the random tensor we will use torch.rand()\n",
        "tensor = torch.rand(size = (1, 1, 1, 10), device = \"cuda\" if torch.cuda.is_available() else \"cpu\")\n",
        "print(tensor)\n",
        "print(f\"Shape of the tensor: {tensor.shape}\")\n",
        "# To remove all `1` dimension we will use torch.squeeze()\n",
        "squeezed_tensor = torch.squeeze(tensor)\n",
        "print(squeezed_tensor)\n",
        "print(f\"Shape of the squeezed tensor: {squeezed_tensor.shape}\")"
      ],
      "metadata": {
        "colab": {
          "base_uri": "https://localhost:8080/"
        },
        "id": "G5aHpFbD55K3",
        "outputId": "91eb8b91-4334-4163-a83d-86cab02a8c59"
      },
      "execution_count": 50,
      "outputs": [
        {
          "output_type": "stream",
          "name": "stdout",
          "text": [
            "tensor([[[[0.9546, 0.4950, 0.9420, 0.5926, 0.6996, 0.2087, 0.6753, 0.4810,\n",
            "           0.6333, 0.5733]]]], device='cuda:0')\n",
            "Shape of the tensor: torch.Size([1, 1, 1, 10])\n",
            "tensor([0.9546, 0.4950, 0.9420, 0.5926, 0.6996, 0.2087, 0.6753, 0.4810, 0.6333,\n",
            "        0.5733], device='cuda:0')\n",
            "Shape of the squeezed tensor: torch.Size([10])\n"
          ]
        }
      ]
    },
    {
      "cell_type": "markdown",
      "source": [
        "NOTE :- `if we set the random seed using torch.cuda.manual_seed() than this seed is not aplicable for the tensor which is on the cpu so when you use torch.cuda.manual_seed() make sure that your tensor is on gpu`"
      ],
      "metadata": {
        "id": "ihCqs1_u7H0R"
      }
    },
    {
      "cell_type": "code",
      "source": [],
      "metadata": {
        "id": "CoK_-Drs8C0o"
      },
      "execution_count": null,
      "outputs": []
    }
  ]
}